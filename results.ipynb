{
 "cells": [
  {
   "cell_type": "markdown",
   "metadata": {},
   "source": [
    "# Results "
   ]
  },
  {
   "cell_type": "markdown",
   "metadata": {},
   "source": [
    "### Analysis of the final data set  \n",
    "After the loading, merging, and pre-processing of our 3 datasets, we have the final `final_merged_data.csv` dataset composed of:\n",
    "\n",
    "|       | Movie name           | Movie release date | Movie box office revenue | Movie runtime | Movie languages | Movie countries | Movie genres | Movie score | Movie votes | Movie director | Movie star | Movie budget | Movie gross | Movie company | Number of nominations | Nomination winner | Budget/revenues ratio |\n",
    "|-------|----------------------|--------------------|--------------------------|---------------|-----------------|-----------------|--------------|-------------|-------------|-----------------|------------|--------------|-------------|---------------|----------------------|-------------------|-----------------------|\n",
    "| Type of values |   Str   | Int                  | Float                 |                        | D             | A               | B               | C            | D           | A           | B               | C          | D            | A           | B             | C                    | D                 |                       |\n",
    "| Example |       | 1                    | 5                  | 2                        | 0             | P0              | 0               | 0            | 1           | 2           | 0               | 0          | 1            | 2           | 0             | 0                    | 1                 |                       |\n",
    "| Number of rows with this information |       | 0                    | 0                  | 1                        | 2             | P1              | 1               | 0            | 0           | 1           | 7               | 5          | 0            | 0           | 6             | 5                    | 0                 | 6                     |\n",
    "| Number of NaN |       | 1                    | 3                  | 5                        | 4             | P2              | 2               | 3            | 5           | 6           | 0               | 6          | 5            | 2           | 0             | 6                    | 5                 |                       |\n",
    "| Statistical information (mean, min, max) |       | 0                    | 6                  | 3                        | 2             | P3              | 0               | 6            | 5           | 2           | 0               | 6          | 5            | 6           | 0             | 6                    | 6                 |                       |\n"
   ]
  },
  {
   "cell_type": "markdown",
   "metadata": {},
   "source": [
    "| Header 1 | Header 2 | Header 3 |\n",
    "|----------|----------|----------|\n",
    "| Row 1    | Data     | Data     |\n",
    "| Row 2    | Data     | Data     |\n"
   ]
  },
  {
   "cell_type": "code",
   "execution_count": 6,
   "metadata": {},
   "outputs": [
    {
     "data": {
      "text/plain": [
       "Movie name                   object\n",
       "Movie release date          float64\n",
       "Movie box office revenue    float64\n",
       "Movie runtime               float64\n",
       "Movie languages              object\n",
       "Movie countries              object\n",
       "Movie genres                 object\n",
       "Movie score                 float64\n",
       "Movie votes                 float64\n",
       "Movie director               object\n",
       "Movie star                   object\n",
       "Movie budget                float64\n",
       "Movie gross                 float64\n",
       "Movie company                object\n",
       "Number of nomination        float64\n",
       "Nomination winner            object\n",
       "Budget/revenues ratio       float64\n",
       "dtype: object"
      ]
     },
     "execution_count": 6,
     "metadata": {},
     "output_type": "execute_result"
    }
   ],
   "source": [
    "import pandas as pd \n",
    "\n",
    "data = pd.read_csv('data/final_merged_data.csv')\n",
    "data.dtypes"
   ]
  }
 ],
 "metadata": {
  "kernelspec": {
   "display_name": "adap2",
   "language": "python",
   "name": "python3"
  },
  "language_info": {
   "codemirror_mode": {
    "name": "ipython",
    "version": 3
   },
   "file_extension": ".py",
   "mimetype": "text/x-python",
   "name": "python",
   "nbconvert_exporter": "python",
   "pygments_lexer": "ipython3",
   "version": "3.13.0"
  }
 },
 "nbformat": 4,
 "nbformat_minor": 2
}
