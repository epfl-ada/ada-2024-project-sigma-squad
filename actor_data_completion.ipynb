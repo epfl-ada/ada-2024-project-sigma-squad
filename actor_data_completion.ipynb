{
 "cells": [
  {
   "cell_type": "markdown",
   "metadata": {},
   "source": [
    "# Completing actor data"
   ]
  },
  {
   "cell_type": "code",
   "execution_count": 1,
   "metadata": {},
   "outputs": [],
   "source": [
    "from src.data.transform_data import* \n",
    "from src.models.movie_success_model import* \n",
    "from src.models.actor_success_model import*\n",
    "from webscraping.webscraper import*"
   ]
  },
  {
   "cell_type": "markdown",
   "metadata": {},
   "source": [
    "## 1) Load character data from csv"
   ]
  },
  {
   "cell_type": "code",
   "execution_count": 2,
   "metadata": {},
   "outputs": [
    {
     "data": {
      "text/html": [
       "<div>\n",
       "<style scoped>\n",
       "    .dataframe tbody tr th:only-of-type {\n",
       "        vertical-align: middle;\n",
       "    }\n",
       "\n",
       "    .dataframe tbody tr th {\n",
       "        vertical-align: top;\n",
       "    }\n",
       "\n",
       "    .dataframe thead th {\n",
       "        text-align: right;\n",
       "    }\n",
       "</style>\n",
       "<table border=\"1\" class=\"dataframe\">\n",
       "  <thead>\n",
       "    <tr style=\"text-align: right;\">\n",
       "      <th></th>\n",
       "      <th>Actor date of birth</th>\n",
       "      <th>Actor gender</th>\n",
       "      <th>Actor height</th>\n",
       "      <th>Actor ethnicity</th>\n",
       "      <th>Actor age at movie release</th>\n",
       "      <th>Actor Score Index</th>\n",
       "    </tr>\n",
       "    <tr>\n",
       "      <th>Actor name</th>\n",
       "      <th></th>\n",
       "      <th></th>\n",
       "      <th></th>\n",
       "      <th></th>\n",
       "      <th></th>\n",
       "      <th></th>\n",
       "    </tr>\n",
       "  </thead>\n",
       "  <tbody>\n",
       "    <tr>\n",
       "      <th>denzel_washington</th>\n",
       "      <td>1954-12-28</td>\n",
       "      <td>M</td>\n",
       "      <td>1.84</td>\n",
       "      <td>/m/0x67</td>\n",
       "      <td>26.0</td>\n",
       "      <td>10.000000</td>\n",
       "    </tr>\n",
       "    <tr>\n",
       "      <th>matt_damon</th>\n",
       "      <td>1970-10-08</td>\n",
       "      <td>M</td>\n",
       "      <td>1.78</td>\n",
       "      <td>/m/0cnvdq1</td>\n",
       "      <td>18.0</td>\n",
       "      <td>9.912690</td>\n",
       "    </tr>\n",
       "    <tr>\n",
       "      <th>tom_hanks</th>\n",
       "      <td>1956-07-09</td>\n",
       "      <td>M</td>\n",
       "      <td>1.83</td>\n",
       "      <td>/m/02p4q5p</td>\n",
       "      <td>27.0</td>\n",
       "      <td>9.741555</td>\n",
       "    </tr>\n",
       "    <tr>\n",
       "      <th>eddie_murphy</th>\n",
       "      <td>1961-04-03</td>\n",
       "      <td>M</td>\n",
       "      <td>1.75</td>\n",
       "      <td>/m/0x67</td>\n",
       "      <td>21.0</td>\n",
       "      <td>9.415060</td>\n",
       "    </tr>\n",
       "    <tr>\n",
       "      <th>tom_cruise</th>\n",
       "      <td>1962-07-03</td>\n",
       "      <td>M</td>\n",
       "      <td>1.70</td>\n",
       "      <td>/m/02ctzb</td>\n",
       "      <td>18.0</td>\n",
       "      <td>9.362255</td>\n",
       "    </tr>\n",
       "    <tr>\n",
       "      <th>...</th>\n",
       "      <td>...</td>\n",
       "      <td>...</td>\n",
       "      <td>...</td>\n",
       "      <td>...</td>\n",
       "      <td>...</td>\n",
       "      <td>...</td>\n",
       "    </tr>\n",
       "    <tr>\n",
       "      <th>j._kenneth_campbell</th>\n",
       "      <td>1947-07-22</td>\n",
       "      <td>M</td>\n",
       "      <td>NaN</td>\n",
       "      <td>None</td>\n",
       "      <td>43.0</td>\n",
       "      <td>0.714754</td>\n",
       "    </tr>\n",
       "    <tr>\n",
       "      <th>evelyn_keyes</th>\n",
       "      <td>1916-11-20</td>\n",
       "      <td>F</td>\n",
       "      <td>1.63</td>\n",
       "      <td>None</td>\n",
       "      <td>72.0</td>\n",
       "      <td>0.700949</td>\n",
       "    </tr>\n",
       "    <tr>\n",
       "      <th>james_dixon</th>\n",
       "      <td>None</td>\n",
       "      <td>M</td>\n",
       "      <td>NaN</td>\n",
       "      <td>None</td>\n",
       "      <td>NaN</td>\n",
       "      <td>0.700949</td>\n",
       "    </tr>\n",
       "    <tr>\n",
       "      <th>reilly_murphy</th>\n",
       "      <td>None</td>\n",
       "      <td>None</td>\n",
       "      <td>NaN</td>\n",
       "      <td>None</td>\n",
       "      <td>NaN</td>\n",
       "      <td>0.251820</td>\n",
       "    </tr>\n",
       "    <tr>\n",
       "      <th>peter_fonda</th>\n",
       "      <td>1940-02-23</td>\n",
       "      <td>M</td>\n",
       "      <td>1.91</td>\n",
       "      <td>/m/07mqps</td>\n",
       "      <td>41.0</td>\n",
       "      <td>0.000000</td>\n",
       "    </tr>\n",
       "  </tbody>\n",
       "</table>\n",
       "<p>20693 rows × 6 columns</p>\n",
       "</div>"
      ],
      "text/plain": [
       "                    Actor date of birth Actor gender  Actor height  \\\n",
       "Actor name                                                           \n",
       "denzel_washington            1954-12-28            M          1.84   \n",
       "matt_damon                   1970-10-08            M          1.78   \n",
       "tom_hanks                    1956-07-09            M          1.83   \n",
       "eddie_murphy                 1961-04-03            M          1.75   \n",
       "tom_cruise                   1962-07-03            M          1.70   \n",
       "...                                 ...          ...           ...   \n",
       "j._kenneth_campbell          1947-07-22            M           NaN   \n",
       "evelyn_keyes                 1916-11-20            F          1.63   \n",
       "james_dixon                        None            M           NaN   \n",
       "reilly_murphy                      None         None           NaN   \n",
       "peter_fonda                  1940-02-23            M          1.91   \n",
       "\n",
       "                    Actor ethnicity  Actor age at movie release  \\\n",
       "Actor name                                                        \n",
       "denzel_washington           /m/0x67                        26.0   \n",
       "matt_damon               /m/0cnvdq1                        18.0   \n",
       "tom_hanks                /m/02p4q5p                        27.0   \n",
       "eddie_murphy                /m/0x67                        21.0   \n",
       "tom_cruise                /m/02ctzb                        18.0   \n",
       "...                             ...                         ...   \n",
       "j._kenneth_campbell            None                        43.0   \n",
       "evelyn_keyes                   None                        72.0   \n",
       "james_dixon                    None                         NaN   \n",
       "reilly_murphy                  None                         NaN   \n",
       "peter_fonda               /m/07mqps                        41.0   \n",
       "\n",
       "                     Actor Score Index  \n",
       "Actor name                              \n",
       "denzel_washington            10.000000  \n",
       "matt_damon                    9.912690  \n",
       "tom_hanks                     9.741555  \n",
       "eddie_murphy                  9.415060  \n",
       "tom_cruise                    9.362255  \n",
       "...                                ...  \n",
       "j._kenneth_campbell           0.714754  \n",
       "evelyn_keyes                  0.700949  \n",
       "james_dixon                   0.700949  \n",
       "reilly_murphy                 0.251820  \n",
       "peter_fonda                   0.000000  \n",
       "\n",
       "[20693 rows x 6 columns]"
      ]
     },
     "execution_count": 2,
     "metadata": {},
     "output_type": "execute_result"
    }
   ],
   "source": [
    "raw_df = raw_data()\n",
    "df = clean_data(raw_df)\n",
    "movie_success_index(df)\n",
    "actor_df = actor_data(df)\n",
    "actor_data = actor_success_index(actor_df)\n",
    "actor_data"
   ]
  },
  {
   "cell_type": "markdown",
   "metadata": {},
   "source": [
    "## 3) Activate scraper"
   ]
  },
  {
   "cell_type": "code",
   "execution_count": 3,
   "metadata": {},
   "outputs": [
    {
     "name": "stderr",
     "output_type": "stream",
     "text": [
      "/Users/aiden/Desktop/EPFL/Master/M - ADA/ada-2024-project-sigma-squad/webscraping/webscraper.py:317: SettingWithCopyWarning: \n",
      "A value is trying to be set on a copy of a slice from a DataFrame.\n",
      "Try using .loc[row_indexer,col_indexer] = value instead\n",
      "\n",
      "See the caveats in the documentation: https://pandas.pydata.org/pandas-docs/stable/user_guide/indexing.html#returning-a-view-versus-a-copy\n",
      "  self.actor_data.loc[:, 'Gender'] = None\n",
      "/Users/aiden/Desktop/EPFL/Master/M - ADA/ada-2024-project-sigma-squad/webscraping/webscraper.py:318: SettingWithCopyWarning: \n",
      "A value is trying to be set on a copy of a slice from a DataFrame.\n",
      "Try using .loc[row_indexer,col_indexer] = value instead\n",
      "\n",
      "See the caveats in the documentation: https://pandas.pydata.org/pandas-docs/stable/user_guide/indexing.html#returning-a-view-versus-a-copy\n",
      "  self.actor_data.loc[:, 'University'] = None\n",
      "/Users/aiden/Desktop/EPFL/Master/M - ADA/ada-2024-project-sigma-squad/webscraping/webscraper.py:319: SettingWithCopyWarning: \n",
      "A value is trying to be set on a copy of a slice from a DataFrame.\n",
      "Try using .loc[row_indexer,col_indexer] = value instead\n",
      "\n",
      "See the caveats in the documentation: https://pandas.pydata.org/pandas-docs/stable/user_guide/indexing.html#returning-a-view-versus-a-copy\n",
      "  self.actor_data.loc[:, 'Theater'] = None\n",
      "/Users/aiden/Desktop/EPFL/Master/M - ADA/ada-2024-project-sigma-squad/webscraping/webscraper.py:320: SettingWithCopyWarning: \n",
      "A value is trying to be set on a copy of a slice from a DataFrame.\n",
      "Try using .loc[row_indexer,col_indexer] = value instead\n",
      "\n",
      "See the caveats in the documentation: https://pandas.pydata.org/pandas-docs/stable/user_guide/indexing.html#returning-a-view-versus-a-copy\n",
      "  self.actor_data.loc[:, 'Sports'] = None\n",
      "/Users/aiden/Desktop/EPFL/Master/M - ADA/ada-2024-project-sigma-squad/webscraping/webscraper.py:321: SettingWithCopyWarning: \n",
      "A value is trying to be set on a copy of a slice from a DataFrame.\n",
      "Try using .loc[row_indexer,col_indexer] = value instead\n",
      "\n",
      "See the caveats in the documentation: https://pandas.pydata.org/pandas-docs/stable/user_guide/indexing.html#returning-a-view-versus-a-copy\n",
      "  self.actor_data.loc[:, 'Birth City'] = None\n",
      "/Users/aiden/Desktop/EPFL/Master/M - ADA/ada-2024-project-sigma-squad/webscraping/webscraper.py:322: SettingWithCopyWarning: \n",
      "A value is trying to be set on a copy of a slice from a DataFrame.\n",
      "Try using .loc[row_indexer,col_indexer] = value instead\n",
      "\n",
      "See the caveats in the documentation: https://pandas.pydata.org/pandas-docs/stable/user_guide/indexing.html#returning-a-view-versus-a-copy\n",
      "  self.actor_data.loc[:, 'Date of Birth'] = None\n",
      "/Users/aiden/Desktop/EPFL/Master/M - ADA/ada-2024-project-sigma-squad/webscraping/webscraper.py:323: SettingWithCopyWarning: \n",
      "A value is trying to be set on a copy of a slice from a DataFrame.\n",
      "Try using .loc[row_indexer,col_indexer] = value instead\n",
      "\n",
      "See the caveats in the documentation: https://pandas.pydata.org/pandas-docs/stable/user_guide/indexing.html#returning-a-view-versus-a-copy\n",
      "  self.actor_data.loc[:, 'Citizenship'] = None\n",
      "/Users/aiden/Desktop/EPFL/Master/M - ADA/ada-2024-project-sigma-squad/webscraping/webscraper.py:324: SettingWithCopyWarning: \n",
      "A value is trying to be set on a copy of a slice from a DataFrame.\n",
      "Try using .loc[row_indexer,col_indexer] = value instead\n",
      "\n",
      "See the caveats in the documentation: https://pandas.pydata.org/pandas-docs/stable/user_guide/indexing.html#returning-a-view-versus-a-copy\n",
      "  self.actor_data.loc[:, 'Number of Children'] = None\n",
      "/Users/aiden/Desktop/EPFL/Master/M - ADA/ada-2024-project-sigma-squad/webscraping/webscraper.py:325: SettingWithCopyWarning: \n",
      "A value is trying to be set on a copy of a slice from a DataFrame.\n",
      "Try using .loc[row_indexer,col_indexer] = value instead\n",
      "\n",
      "See the caveats in the documentation: https://pandas.pydata.org/pandas-docs/stable/user_guide/indexing.html#returning-a-view-versus-a-copy\n",
      "  self.actor_data.loc[:, 'Career Start'] = None\n",
      "  5%|▍         | 46/1000 [01:51<30:01,  1.89s/it]"
     ]
    },
    {
     "name": "stdout",
     "output_type": "stream",
     "text": [
      "body found\n"
     ]
    },
    {
     "name": "stderr",
     "output_type": "stream",
     "text": [
      " 14%|█▎        | 137/1000 [09:12<5:50:39, 24.38s/it]"
     ]
    },
    {
     "name": "stdout",
     "output_type": "stream",
     "text": [
      "Failed to fetch data for Noel Appleby: HTTP 404\n"
     ]
    },
    {
     "name": "stderr",
     "output_type": "stream",
     "text": [
      " 18%|█▊        | 177/1000 [10:45<30:57,  2.26s/it]  "
     ]
    },
    {
     "name": "stdout",
     "output_type": "stream",
     "text": [
      "Failed to fetch data for Ric Govea: HTTP 404\n"
     ]
    },
    {
     "name": "stderr",
     "output_type": "stream",
     "text": [
      " 18%|█▊        | 185/1000 [13:40<1:43:29,  7.62s/it] "
     ]
    },
    {
     "name": "stdout",
     "output_type": "stream",
     "text": [
      "Failed to fetch data for Paul Norell: HTTP 404\n"
     ]
    },
    {
     "name": "stderr",
     "output_type": "stream",
     "text": [
      " 19%|█▉        | 189/1000 [13:52<54:16,  4.02s/it]  "
     ]
    },
    {
     "name": "stdout",
     "output_type": "stream",
     "text": [
      "Failed to fetch data for Michael Elsworth: HTTP 404\n"
     ]
    },
    {
     "name": "stderr",
     "output_type": "stream",
     "text": [
      " 19%|█▉        | 194/1000 [14:02<31:46,  2.37s/it]"
     ]
    },
    {
     "name": "stdout",
     "output_type": "stream",
     "text": [
      "Failed to fetch data for Ione M. Telech: HTTP 404\n"
     ]
    },
    {
     "name": "stderr",
     "output_type": "stream",
     "text": [
      " 20%|█▉        | 198/1000 [14:11<32:09,  2.41s/it]"
     ]
    },
    {
     "name": "stdout",
     "output_type": "stream",
     "text": [
      "Failed to fetch data for Christine Seabrook: HTTP 404\n"
     ]
    },
    {
     "name": "stderr",
     "output_type": "stream",
     "text": [
      " 20%|█▉        | 199/1000 [14:13<30:59,  2.32s/it]"
     ]
    },
    {
     "name": "stdout",
     "output_type": "stream",
     "text": [
      "Failed to fetch data for Margo Moorer: HTTP 404\n"
     ]
    },
    {
     "name": "stderr",
     "output_type": "stream",
     "text": [
      " 20%|██        | 201/1000 [20:56<19:05:00, 85.98s/it] "
     ]
    },
    {
     "name": "stdout",
     "output_type": "stream",
     "text": [
      "Failed to fetch data for John Worsham: HTTP 404\n"
     ]
    },
    {
     "name": "stderr",
     "output_type": "stream",
     "text": [
      " 20%|██        | 203/1000 [21:01<9:34:16, 43.23s/it] "
     ]
    },
    {
     "name": "stdout",
     "output_type": "stream",
     "text": [
      "Failed to fetch data for Harold Herthum: HTTP 404\n"
     ]
    },
    {
     "name": "stderr",
     "output_type": "stream",
     "text": [
      " 20%|██        | 205/1000 [21:06<4:56:57, 22.41s/it]"
     ]
    },
    {
     "name": "stdout",
     "output_type": "stream",
     "text": [
      "Error fetching data for Robert MacNaughton: expected string or bytes-like object, got 'NoneType'\n"
     ]
    },
    {
     "name": "stderr",
     "output_type": "stream",
     "text": [
      " 22%|██▏       | 218/1000 [21:35<31:07,  2.39s/it]  "
     ]
    },
    {
     "name": "stdout",
     "output_type": "stream",
     "text": [
      "Failed to fetch data for Sean Anthony Moran: HTTP 404\n"
     ]
    },
    {
     "name": "stderr",
     "output_type": "stream",
     "text": [
      " 23%|██▎       | 229/1000 [22:01<28:23,  2.21s/it]"
     ]
    },
    {
     "name": "stdout",
     "output_type": "stream",
     "text": [
      "Failed to fetch data for Adi Nitzan: HTTP 404\n"
     ]
    },
    {
     "name": "stderr",
     "output_type": "stream",
     "text": [
      " 23%|██▎       | 230/1000 [22:05<33:35,  2.62s/it]"
     ]
    },
    {
     "name": "stdout",
     "output_type": "stream",
     "text": [
      "Failed to fetch data for Harry Nehring: HTTP 404\n"
     ]
    },
    {
     "name": "stderr",
     "output_type": "stream",
     "text": [
      " 23%|██▎       | 231/1000 [22:07<33:24,  2.61s/it]"
     ]
    },
    {
     "name": "stdout",
     "output_type": "stream",
     "text": [
      "Failed to fetch data for Krzysztof Luft: HTTP 404\n"
     ]
    },
    {
     "name": "stderr",
     "output_type": "stream",
     "text": [
      " 23%|██▎       | 232/1000 [22:11<37:04,  2.90s/it]"
     ]
    },
    {
     "name": "stdout",
     "output_type": "stream",
     "text": [
      "Failed to fetch data for Malgoscha Gebel: HTTP 404\n"
     ]
    },
    {
     "name": "stderr",
     "output_type": "stream",
     "text": [
      " 23%|██▎       | 234/1000 [22:15<32:39,  2.56s/it]"
     ]
    },
    {
     "name": "stdout",
     "output_type": "stream",
     "text": [
      "Failed to fetch data for Shmulik Levy: HTTP 404\n"
     ]
    },
    {
     "name": "stderr",
     "output_type": "stream",
     "text": [
      " 24%|██▎       | 237/1000 [22:23<30:14,  2.38s/it]"
     ]
    },
    {
     "name": "stdout",
     "output_type": "stream",
     "text": [
      "Failed to fetch data for Beata Paluch: HTTP 404\n"
     ]
    },
    {
     "name": "stderr",
     "output_type": "stream",
     "text": [
      " 24%|██▍       | 238/1000 [22:25<29:14,  2.30s/it]"
     ]
    },
    {
     "name": "stdout",
     "output_type": "stream",
     "text": [
      "Failed to fetch data for Beata Nowak: HTTP 404\n"
     ]
    },
    {
     "name": "stderr",
     "output_type": "stream",
     "text": [
      " 24%|██▍       | 239/1000 [22:27<28:41,  2.26s/it]"
     ]
    },
    {
     "name": "stdout",
     "output_type": "stream",
     "text": [
      "Failed to fetch data for Aldona Grochal: HTTP 404\n"
     ]
    },
    {
     "name": "stderr",
     "output_type": "stream",
     "text": [
      " 24%|██▍       | 240/1000 [22:29<25:46,  2.03s/it]"
     ]
    },
    {
     "name": "stdout",
     "output_type": "stream",
     "text": [
      "Failed to fetch data for Albert Misak: HTTP 404\n"
     ]
    },
    {
     "name": "stderr",
     "output_type": "stream",
     "text": [
      " 27%|██▋       | 271/1000 [23:40<34:21,  2.83s/it]"
     ]
    },
    {
     "name": "stdout",
     "output_type": "stream",
     "text": [
      "Failed to fetch data for Himanshu Tyagi: HTTP 404\n"
     ]
    },
    {
     "name": "stderr",
     "output_type": "stream",
     "text": [
      " 28%|██▊       | 276/1000 [23:51<29:42,  2.46s/it]"
     ]
    },
    {
     "name": "stdout",
     "output_type": "stream",
     "text": [
      "Failed to fetch data for Jeneva Talwar: HTTP 404\n"
     ]
    },
    {
     "name": "stderr",
     "output_type": "stream",
     "text": [
      " 28%|██▊       | 284/1000 [24:10<26:17,  2.20s/it]"
     ]
    },
    {
     "name": "stdout",
     "output_type": "stream",
     "text": [
      "Failed to fetch data for Sunil Kumar Agrawal: HTTP 404\n"
     ]
    },
    {
     "name": "stderr",
     "output_type": "stream",
     "text": [
      " 29%|██▉       | 288/1000 [24:20<28:49,  2.43s/it]"
     ]
    },
    {
     "name": "stdout",
     "output_type": "stream",
     "text": [
      "Error fetching data for Imran Hasnee: expected string or bytes-like object, got 'NoneType'\n"
     ]
    },
    {
     "name": "stderr",
     "output_type": "stream",
     "text": [
      " 29%|██▉       | 291/1000 [24:29<33:02,  2.80s/it]"
     ]
    },
    {
     "name": "stdout",
     "output_type": "stream",
     "text": [
      "Failed to fetch data for Sanchita Choudhary: HTTP 404\n"
     ]
    },
    {
     "name": "stderr",
     "output_type": "stream",
     "text": [
      " 29%|██▉       | 293/1000 [24:34<30:24,  2.58s/it]"
     ]
    },
    {
     "name": "stdout",
     "output_type": "stream",
     "text": [
      "Failed to fetch data for Zoe Leader: HTTP 404\n"
     ]
    },
    {
     "name": "stderr",
     "output_type": "stream",
     "text": [
      " 29%|██▉       | 294/1000 [24:36<30:27,  2.59s/it]"
     ]
    },
    {
     "name": "stdout",
     "output_type": "stream",
     "text": [
      "Failed to fetch data for Niketa Calame: HTTP 404\n"
     ]
    },
    {
     "name": "stderr",
     "output_type": "stream",
     "text": [
      " 30%|██▉       | 295/1000 [24:39<31:55,  2.72s/it]"
     ]
    },
    {
     "name": "stdout",
     "output_type": "stream",
     "text": [
      "Failed to fetch data for Anna Maguire: HTTP 404\n"
     ]
    },
    {
     "name": "stderr",
     "output_type": "stream",
     "text": [
      " 30%|██▉       | 297/1000 [24:46<35:04,  2.99s/it]"
     ]
    },
    {
     "name": "stdout",
     "output_type": "stream",
     "text": [
      "Failed to fetch data for Gary Sefton: HTTP 404\n"
     ]
    },
    {
     "name": "stderr",
     "output_type": "stream",
     "text": [
      " 30%|██▉       | 298/1000 [24:48<33:16,  2.84s/it]"
     ]
    },
    {
     "name": "stdout",
     "output_type": "stream",
     "text": [
      "Failed to fetch data for Marc Cass: HTTP 404\n"
     ]
    },
    {
     "name": "stderr",
     "output_type": "stream",
     "text": [
      " 30%|██▉       | 299/1000 [24:50<28:58,  2.48s/it]"
     ]
    },
    {
     "name": "stdout",
     "output_type": "stream",
     "text": [
      "Failed to fetch data for Markus Napier: HTTP 404\n"
     ]
    },
    {
     "name": "stderr",
     "output_type": "stream",
     "text": [
      " 30%|███       | 300/1000 [24:52<28:04,  2.41s/it]"
     ]
    },
    {
     "name": "stdout",
     "output_type": "stream",
     "text": [
      "Failed to fetch data for Julian Spencer: HTTP 404\n"
     ]
    },
    {
     "name": "stderr",
     "output_type": "stream",
     "text": [
      " 31%|███       | 310/1000 [25:14<25:03,  2.18s/it]"
     ]
    },
    {
     "name": "stdout",
     "output_type": "stream",
     "text": [
      "Failed to fetch data for Sam Comery: HTTP 404\n"
     ]
    },
    {
     "name": "stderr",
     "output_type": "stream",
     "text": [
      " 31%|███       | 312/1000 [25:19<24:13,  2.11s/it]"
     ]
    },
    {
     "name": "stdout",
     "output_type": "stream",
     "text": [
      "Failed to fetch data for Ray Trickett: HTTP 404\n"
     ]
    },
    {
     "name": "stderr",
     "output_type": "stream",
     "text": [
      " 31%|███▏      | 313/1000 [25:21<24:10,  2.11s/it]"
     ]
    },
    {
     "name": "stdout",
     "output_type": "stream",
     "text": [
      "Failed to fetch data for Paris Howe Strewe: HTTP 404\n"
     ]
    },
    {
     "name": "stderr",
     "output_type": "stream",
     "text": [
      " 32%|███▏      | 316/1000 [25:28<24:17,  2.13s/it]"
     ]
    },
    {
     "name": "stdout",
     "output_type": "stream",
     "text": [
      "Failed to fetch data for Stephen Ure: HTTP 404\n"
     ]
    },
    {
     "name": "stderr",
     "output_type": "stream",
     "text": [
      " 32%|███▏      | 317/1000 [25:30<25:15,  2.22s/it]"
     ]
    },
    {
     "name": "stdout",
     "output_type": "stream",
     "text": [
      "Failed to fetch data for Calum Gittins: HTTP 404\n"
     ]
    },
    {
     "name": "stderr",
     "output_type": "stream",
     "text": [
      " 32%|███▏      | 320/1000 [25:37<25:45,  2.27s/it]"
     ]
    },
    {
     "name": "stdout",
     "output_type": "stream",
     "text": [
      "Failed to fetch data for Tai-Li Lee: HTTP 404\n"
     ]
    },
    {
     "name": "stderr",
     "output_type": "stream",
     "text": [
      " 33%|███▎      | 329/1000 [25:56<22:20,  2.00s/it]"
     ]
    },
    {
     "name": "stdout",
     "output_type": "stream",
     "text": [
      "Failed to fetch data for Lorelei Leslie: HTTP 404\n"
     ]
    },
    {
     "name": "stderr",
     "output_type": "stream",
     "text": [
      " 33%|███▎      | 330/1000 [25:59<26:24,  2.36s/it]"
     ]
    },
    {
     "name": "stdout",
     "output_type": "stream",
     "text": [
      "Error fetching data for Robert Ruth: expected string or bytes-like object, got 'NoneType'\n"
     ]
    },
    {
     "name": "stderr",
     "output_type": "stream",
     "text": [
      " 33%|███▎      | 331/1000 [26:01<26:09,  2.35s/it]"
     ]
    },
    {
     "name": "stdout",
     "output_type": "stream",
     "text": [
      "Failed to fetch data for Venessia Valentino: HTTP 404\n"
     ]
    },
    {
     "name": "stderr",
     "output_type": "stream",
     "text": [
      " 33%|███▎      | 332/1000 [26:05<29:50,  2.68s/it]"
     ]
    },
    {
     "name": "stdout",
     "output_type": "stream",
     "text": [
      "Failed to fetch data for Ani Sava: HTTP 404\n"
     ]
    },
    {
     "name": "stderr",
     "output_type": "stream",
     "text": [
      " 33%|███▎      | 333/1000 [26:07<26:59,  2.43s/it]"
     ]
    },
    {
     "name": "stdout",
     "output_type": "stream",
     "text": [
      "Failed to fetch data for Sy Sher: HTTP 404\n"
     ]
    },
    {
     "name": "stderr",
     "output_type": "stream",
     "text": [
      " 34%|███▎      | 335/1000 [26:11<25:01,  2.26s/it]"
     ]
    },
    {
     "name": "stdout",
     "output_type": "stream",
     "text": [
      "Failed to fetch data for Devan Richardson: HTTP 404\n"
     ]
    },
    {
     "name": "stderr",
     "output_type": "stream",
     "text": [
      " 34%|███▎      | 336/1000 [26:14<27:13,  2.46s/it]"
     ]
    },
    {
     "name": "stdout",
     "output_type": "stream",
     "text": [
      "Failed to fetch data for Don Blakely: HTTP 404\n"
     ]
    },
    {
     "name": "stderr",
     "output_type": "stream",
     "text": [
      " 34%|███▍      | 338/1000 [26:19<27:59,  2.54s/it]"
     ]
    },
    {
     "name": "stdout",
     "output_type": "stream",
     "text": [
      "Failed to fetch data for Rene Beard: HTTP 404\n"
     ]
    },
    {
     "name": "stderr",
     "output_type": "stream",
     "text": [
      " 34%|███▍      | 339/1000 [26:21<25:44,  2.34s/it]"
     ]
    },
    {
     "name": "stdout",
     "output_type": "stream",
     "text": [
      "Failed to fetch data for Rich Turner: HTTP 404\n"
     ]
    },
    {
     "name": "stderr",
     "output_type": "stream",
     "text": [
      " 34%|███▍      | 340/1000 [26:24<25:35,  2.33s/it]"
     ]
    },
    {
     "name": "stdout",
     "output_type": "stream",
     "text": [
      "Failed to fetch data for Stephen Hibbert: HTTP 404\n"
     ]
    },
    {
     "name": "stderr",
     "output_type": "stream",
     "text": [
      " 34%|███▍      | 341/1000 [26:25<23:41,  2.16s/it]"
     ]
    },
    {
     "name": "stdout",
     "output_type": "stream",
     "text": [
      "Failed to fetch data for Susan Griffiths: HTTP 404\n"
     ]
    },
    {
     "name": "stderr",
     "output_type": "stream",
     "text": [
      " 34%|███▍      | 344/1000 [26:31<21:48,  1.99s/it]"
     ]
    },
    {
     "name": "stdout",
     "output_type": "stream",
     "text": [
      "Failed to fetch data for Glendon Rich: HTTP 404\n"
     ]
    },
    {
     "name": "stderr",
     "output_type": "stream",
     "text": [
      " 35%|███▍      | 346/1000 [26:35<23:44,  2.18s/it]"
     ]
    },
    {
     "name": "stdout",
     "output_type": "stream",
     "text": [
      "Failed to fetch data for Chandler Lindauer: HTTP 404\n"
     ]
    },
    {
     "name": "stderr",
     "output_type": "stream",
     "text": [
      " 35%|███▍      | 348/1000 [26:40<24:45,  2.28s/it]"
     ]
    },
    {
     "name": "stdout",
     "output_type": "stream",
     "text": [
      "Failed to fetch data for Laura Lovelace: HTTP 404\n"
     ]
    },
    {
     "name": "stderr",
     "output_type": "stream",
     "text": [
      " 35%|███▌      | 352/1000 [26:48<22:07,  2.05s/it]"
     ]
    },
    {
     "name": "stdout",
     "output_type": "stream",
     "text": [
      "Failed to fetch data for Brenda Hillhouse: HTTP 404\n"
     ]
    },
    {
     "name": "stderr",
     "output_type": "stream",
     "text": [
      " 35%|███▌      | 353/1000 [26:49<20:39,  1.92s/it]"
     ]
    },
    {
     "name": "stdout",
     "output_type": "stream",
     "text": [
      "Failed to fetch data for Gary Shorelle: HTTP 404\n"
     ]
    },
    {
     "name": "stderr",
     "output_type": "stream",
     "text": [
      " 36%|███▌      | 360/1000 [27:04<22:56,  2.15s/it]"
     ]
    },
    {
     "name": "stdout",
     "output_type": "stream",
     "text": [
      "Failed to fetch data for MacAulay Culkin: HTTP 404\n"
     ]
    },
    {
     "name": "stderr",
     "output_type": "stream",
     "text": [
      " 38%|███▊      | 376/1000 [27:41<22:59,  2.21s/it]"
     ]
    },
    {
     "name": "stdout",
     "output_type": "stream",
     "text": [
      "Failed to fetch data for Rachel Majorowski: HTTP 404\n"
     ]
    },
    {
     "name": "stderr",
     "output_type": "stream",
     "text": [
      " 38%|███▊      | 377/1000 [27:43<23:20,  2.25s/it]"
     ]
    },
    {
     "name": "stdout",
     "output_type": "stream",
     "text": [
      "Failed to fetch data for Colleen McCauley: HTTP 404\n"
     ]
    },
    {
     "name": "stderr",
     "output_type": "stream",
     "text": [
      " 38%|███▊      | 385/1000 [28:02<22:07,  2.16s/it]"
     ]
    },
    {
     "name": "stdout",
     "output_type": "stream",
     "text": [
      "Failed to fetch data for Lisa Summerour: HTTP 404\n"
     ]
    },
    {
     "name": "stderr",
     "output_type": "stream",
     "text": [
      " 39%|███▉      | 388/1000 [28:10<26:05,  2.56s/it]"
     ]
    },
    {
     "name": "stdout",
     "output_type": "stream",
     "text": [
      "Failed to fetch data for Jeffrey Zubernis: HTTP 404\n"
     ]
    },
    {
     "name": "stderr",
     "output_type": "stream",
     "text": [
      " 39%|███▉      | 394/1000 [28:27<27:07,  2.69s/it]"
     ]
    },
    {
     "name": "stdout",
     "output_type": "stream",
     "text": [
      "Failed to fetch data for Alec Murphy: HTTP 404\n"
     ]
    },
    {
     "name": "stderr",
     "output_type": "stream",
     "text": [
      " 45%|████▍     | 447/1000 [30:28<17:32,  1.90s/it]"
     ]
    },
    {
     "name": "stdout",
     "output_type": "stream",
     "text": [
      "Error fetching data for Ellen Foley: expected string or bytes-like object, got 'NoneType'\n"
     ]
    },
    {
     "name": "stderr",
     "output_type": "stream",
     "text": [
      " 48%|████▊     | 475/1000 [31:32<21:32,  2.46s/it]"
     ]
    },
    {
     "name": "stdout",
     "output_type": "stream",
     "text": [
      "Failed to fetch data for Jian Hua Feng: HTTP 404\n"
     ]
    },
    {
     "name": "stderr",
     "output_type": "stream",
     "text": [
      " 48%|████▊     | 476/1000 [31:35<24:01,  2.75s/it]"
     ]
    },
    {
     "name": "stdout",
     "output_type": "stream",
     "text": [
      "Failed to fetch data for Rei Yang: HTTP 404\n"
     ]
    },
    {
     "name": "stderr",
     "output_type": "stream",
     "text": [
      " 48%|████▊     | 477/1000 [31:37<21:12,  2.43s/it]"
     ]
    },
    {
     "name": "stdout",
     "output_type": "stream",
     "text": [
      "Failed to fetch data for Jin Ting Zhang: HTTP 404\n"
     ]
    },
    {
     "name": "stderr",
     "output_type": "stream",
     "text": [
      " 48%|████▊     | 478/1000 [31:39<21:20,  2.45s/it]"
     ]
    },
    {
     "name": "stdout",
     "output_type": "stream",
     "text": [
      "Failed to fetch data for Xian Gao: HTTP 404\n"
     ]
    },
    {
     "name": "stderr",
     "output_type": "stream",
     "text": [
      " 48%|████▊     | 479/1000 [31:42<22:42,  2.62s/it]"
     ]
    },
    {
     "name": "stdout",
     "output_type": "stream",
     "text": [
      "Failed to fetch data for Fa Zeng Li: HTTP 404\n"
     ]
    },
    {
     "name": "stderr",
     "output_type": "stream",
     "text": [
      " 48%|████▊     | 480/1000 [31:44<20:38,  2.38s/it]"
     ]
    },
    {
     "name": "stdout",
     "output_type": "stream",
     "text": [
      "Failed to fetch data for Su Ying Huang: HTTP 404\n"
     ]
    },
    {
     "name": "stderr",
     "output_type": "stream",
     "text": [
      " 48%|████▊     | 481/1000 [31:47<22:46,  2.63s/it]"
     ]
    },
    {
     "name": "stdout",
     "output_type": "stream",
     "text": [
      "Failed to fetch data for Yan Hai: HTTP 404\n"
     ]
    },
    {
     "name": "stderr",
     "output_type": "stream",
     "text": [
      " 48%|████▊     | 482/1000 [31:50<22:00,  2.55s/it]"
     ]
    },
    {
     "name": "stdout",
     "output_type": "stream",
     "text": [
      "Error fetching data for Kai Li: expected string or bytes-like object, got 'NoneType'\n"
     ]
    },
    {
     "name": "stderr",
     "output_type": "stream",
     "text": [
      " 48%|████▊     | 483/1000 [31:51<18:54,  2.19s/it]"
     ]
    },
    {
     "name": "stdout",
     "output_type": "stream",
     "text": [
      "Failed to fetch data for De Ming Wang: HTTP 404\n"
     ]
    },
    {
     "name": "stderr",
     "output_type": "stream",
     "text": [
      " 49%|████▊     | 487/1000 [32:00<19:52,  2.32s/it]"
     ]
    },
    {
     "name": "stdout",
     "output_type": "stream",
     "text": [
      "Failed to fetch data for Sergio Torrado: HTTP 404\n"
     ]
    },
    {
     "name": "stderr",
     "output_type": "stream",
     "text": [
      " 50%|████▉     | 498/1000 [32:26<20:34,  2.46s/it]"
     ]
    },
    {
     "name": "stdout",
     "output_type": "stream",
     "text": [
      "Failed to fetch data for David Curtiz: HTTP 404\n"
     ]
    },
    {
     "name": "stderr",
     "output_type": "stream",
     "text": [
      " 50%|█████     | 500/1000 [32:30<19:08,  2.30s/it]"
     ]
    },
    {
     "name": "stdout",
     "output_type": "stream",
     "text": [
      "Failed to fetch data for Sandra Reinton: HTTP 404\n"
     ]
    },
    {
     "name": "stderr",
     "output_type": "stream",
     "text": [
      " 50%|█████     | 502/1000 [32:36<20:24,  2.46s/it]"
     ]
    },
    {
     "name": "stdout",
     "output_type": "stream",
     "text": [
      "Failed to fetch data for Ken Gibbel: HTTP 404\n"
     ]
    },
    {
     "name": "stderr",
     "output_type": "stream",
     "text": [
      " 50%|█████     | 505/1000 [32:43<20:45,  2.52s/it]"
     ]
    },
    {
     "name": "stdout",
     "output_type": "stream",
     "text": [
      "Failed to fetch data for Lulu Ebeling: HTTP 404\n"
     ]
    },
    {
     "name": "stderr",
     "output_type": "stream",
     "text": [
      " 51%|█████     | 507/1000 [32:49<23:12,  2.83s/it]"
     ]
    },
    {
     "name": "stdout",
     "output_type": "stream",
     "text": [
      "Failed to fetch data for Jordan Ranft: HTTP 404\n"
     ]
    },
    {
     "name": "stderr",
     "output_type": "stream",
     "text": [
      " 51%|█████     | 508/1000 [32:51<20:47,  2.54s/it]"
     ]
    },
    {
     "name": "stdout",
     "output_type": "stream",
     "text": [
      "Failed to fetch data for Erica Beck: HTTP 404\n"
     ]
    },
    {
     "name": "stderr",
     "output_type": "stream",
     "text": [
      " 52%|█████▏    | 516/1000 [33:09<20:50,  2.58s/it]"
     ]
    },
    {
     "name": "stdout",
     "output_type": "stream",
     "text": [
      "Failed to fetch data for Tara Frederick: HTTP 404\n"
     ]
    },
    {
     "name": "stderr",
     "output_type": "stream",
     "text": [
      " 52%|█████▏    | 518/1000 [33:15<20:49,  2.59s/it]"
     ]
    },
    {
     "name": "stdout",
     "output_type": "stream",
     "text": [
      "Failed to fetch data for David Mucci: HTTP 404\n"
     ]
    },
    {
     "name": "stderr",
     "output_type": "stream",
     "text": [
      " 53%|█████▎    | 530/1000 [33:41<17:31,  2.24s/it]"
     ]
    },
    {
     "name": "stdout",
     "output_type": "stream",
     "text": [
      "Failed to fetch data for Jason Marin: HTTP 404\n"
     ]
    },
    {
     "name": "stderr",
     "output_type": "stream",
     "text": [
      " 55%|█████▍    | 548/1000 [34:21<16:57,  2.25s/it]"
     ]
    },
    {
     "name": "stdout",
     "output_type": "stream",
     "text": [
      "Failed to fetch data for Deirdre Goodwin: HTTP 404\n"
     ]
    },
    {
     "name": "stderr",
     "output_type": "stream",
     "text": [
      " 55%|█████▌    | 550/1000 [34:25<15:24,  2.05s/it]"
     ]
    },
    {
     "name": "stdout",
     "output_type": "stream",
     "text": [
      "Error fetching data for Leonard Jackson: expected string or bytes-like object, got 'NoneType'\n"
     ]
    },
    {
     "name": "stderr",
     "output_type": "stream",
     "text": [
      " 55%|█████▌    | 554/1000 [34:32<13:34,  1.83s/it]"
     ]
    },
    {
     "name": "stdout",
     "output_type": "stream",
     "text": [
      "Failed to fetch data for Peter Rühring: HTTP 404\n"
     ]
    },
    {
     "name": "stderr",
     "output_type": "stream",
     "text": [
      " 56%|█████▌    | 557/1000 [34:39<15:13,  2.06s/it]"
     ]
    },
    {
     "name": "stdout",
     "output_type": "stream",
     "text": [
      "Failed to fetch data for Geordie Johnson: HTTP 404\n"
     ]
    },
    {
     "name": "stderr",
     "output_type": "stream",
     "text": [
      " 57%|█████▋    | 566/1000 [34:57<14:29,  2.00s/it]"
     ]
    },
    {
     "name": "stdout",
     "output_type": "stream",
     "text": [
      "Error fetching data for Michele Little: expected string or bytes-like object, got 'NoneType'\n"
     ]
    },
    {
     "name": "stderr",
     "output_type": "stream",
     "text": [
      " 57%|█████▋    | 569/1000 [35:05<17:45,  2.47s/it]"
     ]
    },
    {
     "name": "stdout",
     "output_type": "stream",
     "text": [
      "Failed to fetch data for Joseph F. Kosala: HTTP 404\n"
     ]
    },
    {
     "name": "stderr",
     "output_type": "stream",
     "text": [
      " 58%|█████▊    | 583/1000 [35:41<15:22,  2.21s/it]"
     ]
    },
    {
     "name": "stdout",
     "output_type": "stream",
     "text": [
      "Failed to fetch data for Jacob Tolano: HTTP 404\n"
     ]
    },
    {
     "name": "stderr",
     "output_type": "stream",
     "text": [
      " 58%|█████▊    | 584/1000 [35:42<14:16,  2.06s/it]"
     ]
    },
    {
     "name": "stdout",
     "output_type": "stream",
     "text": [
      "Failed to fetch data for Joeanna Sayler: HTTP 404\n"
     ]
    },
    {
     "name": "stderr",
     "output_type": "stream",
     "text": [
      " 59%|█████▊    | 587/1000 [35:52<18:59,  2.76s/it]"
     ]
    },
    {
     "name": "stdout",
     "output_type": "stream",
     "text": [
      "Failed to fetch data for Edith Ivey: HTTP 404\n"
     ]
    },
    {
     "name": "stderr",
     "output_type": "stream",
     "text": [
      " 59%|█████▉    | 589/1000 [35:56<17:23,  2.54s/it]"
     ]
    },
    {
     "name": "stdout",
     "output_type": "stream",
     "text": [
      "Failed to fetch data for Paula Gray: HTTP 404\n"
     ]
    },
    {
     "name": "stderr",
     "output_type": "stream",
     "text": [
      " 59%|█████▉    | 590/1000 [35:59<17:49,  2.61s/it]"
     ]
    },
    {
     "name": "stdout",
     "output_type": "stream",
     "text": [
      "Failed to fetch data for Donna Duplantier: HTTP 404\n"
     ]
    },
    {
     "name": "stderr",
     "output_type": "stream",
     "text": [
      " 59%|█████▉    | 591/1000 [36:01<16:20,  2.40s/it]"
     ]
    },
    {
     "name": "stdout",
     "output_type": "stream",
     "text": [
      "Error fetching data for Michael Rispoli: expected string or bytes-like object, got 'NoneType'\n"
     ]
    },
    {
     "name": "stderr",
     "output_type": "stream",
     "text": [
      " 59%|█████▉    | 593/1000 [36:05<16:28,  2.43s/it]"
     ]
    },
    {
     "name": "stdout",
     "output_type": "stream",
     "text": [
      "Failed to fetch data for Christopher J. Keene: HTTP 404\n"
     ]
    },
    {
     "name": "stderr",
     "output_type": "stream",
     "text": [
      " 60%|█████▉    | 595/1000 [36:10<16:30,  2.45s/it]"
     ]
    },
    {
     "name": "stdout",
     "output_type": "stream",
     "text": [
      "Failed to fetch data for Rick Kleber: HTTP 404\n"
     ]
    },
    {
     "name": "stderr",
     "output_type": "stream",
     "text": [
      " 60%|█████▉    | 596/1000 [36:13<16:36,  2.47s/it]"
     ]
    },
    {
     "name": "stdout",
     "output_type": "stream",
     "text": [
      "Failed to fetch data for Susan Breslau: HTTP 404\n"
     ]
    },
    {
     "name": "stderr",
     "output_type": "stream",
     "text": [
      " 60%|█████▉    | 597/1000 [36:16<18:19,  2.73s/it]"
     ]
    },
    {
     "name": "stdout",
     "output_type": "stream",
     "text": [
      "Failed to fetch data for Stanley Lawrence: HTTP 404\n"
     ]
    },
    {
     "name": "stderr",
     "output_type": "stream",
     "text": [
      " 61%|██████    | 606/1000 [36:38<15:06,  2.30s/it]"
     ]
    },
    {
     "name": "stdout",
     "output_type": "stream",
     "text": [
      "Failed to fetch data for Artus De Penguern: HTTP 404\n"
     ]
    },
    {
     "name": "stderr",
     "output_type": "stream",
     "text": [
      " 61%|██████▏   | 613/1000 [36:54<15:22,  2.38s/it]"
     ]
    },
    {
     "name": "stdout",
     "output_type": "stream",
     "text": [
      "Failed to fetch data for Clarice F. Geigerman: HTTP 404\n"
     ]
    },
    {
     "name": "stderr",
     "output_type": "stream",
     "text": [
      " 61%|██████▏   | 614/1000 [36:56<15:33,  2.42s/it]"
     ]
    },
    {
     "name": "stdout",
     "output_type": "stream",
     "text": [
      "Failed to fetch data for Alvin M. Sugarman: HTTP 404\n"
     ]
    },
    {
     "name": "stderr",
     "output_type": "stream",
     "text": [
      " 62%|██████▏   | 615/1000 [36:59<16:34,  2.58s/it]"
     ]
    },
    {
     "name": "stdout",
     "output_type": "stream",
     "text": [
      "Error fetching data for Jo Ann Havrilla: expected string or bytes-like object, got 'NoneType'\n"
     ]
    },
    {
     "name": "stderr",
     "output_type": "stream",
     "text": [
      " 62%|██████▏   | 616/1000 [37:02<17:24,  2.72s/it]"
     ]
    },
    {
     "name": "stdout",
     "output_type": "stream",
     "text": [
      "Failed to fetch data for Muriel Moore: HTTP 404\n"
     ]
    },
    {
     "name": "stderr",
     "output_type": "stream",
     "text": [
      " 62%|██████▏   | 621/1000 [37:14<15:28,  2.45s/it]"
     ]
    },
    {
     "name": "stdout",
     "output_type": "stream",
     "text": [
      "Failed to fetch data for Lachlan MacKintosh: HTTP 404\n"
     ]
    },
    {
     "name": "stderr",
     "output_type": "stream",
     "text": [
      " 62%|██████▏   | 622/1000 [37:16<14:41,  2.33s/it]"
     ]
    },
    {
     "name": "stdout",
     "output_type": "stream",
     "text": [
      "Failed to fetch data for Larry Reese: HTTP 404\n"
     ]
    },
    {
     "name": "stderr",
     "output_type": "stream",
     "text": [
      " 62%|██████▏   | 623/1000 [37:19<15:17,  2.43s/it]"
     ]
    },
    {
     "name": "stdout",
     "output_type": "stream",
     "text": [
      "Failed to fetch data for Kade Phillips: HTTP 404\n"
     ]
    },
    {
     "name": "stderr",
     "output_type": "stream",
     "text": [
      " 62%|██████▏   | 624/1000 [37:22<16:48,  2.68s/it]"
     ]
    },
    {
     "name": "stdout",
     "output_type": "stream",
     "text": [
      "Failed to fetch data for Cheyenne Hill: HTTP 404\n"
     ]
    },
    {
     "name": "stderr",
     "output_type": "stream",
     "text": [
      " 63%|██████▎   | 626/1000 [37:28<17:22,  2.79s/it]"
     ]
    },
    {
     "name": "stdout",
     "output_type": "stream",
     "text": [
      "Failed to fetch data for Valerie Planche: HTTP 404\n"
     ]
    },
    {
     "name": "stderr",
     "output_type": "stream",
     "text": [
      " 63%|██████▎   | 627/1000 [37:29<15:06,  2.43s/it]"
     ]
    },
    {
     "name": "stdout",
     "output_type": "stream",
     "text": [
      "Failed to fetch data for Marty Antonini: HTTP 404\n"
     ]
    },
    {
     "name": "stderr",
     "output_type": "stream",
     "text": [
      " 63%|██████▎   | 628/1000 [37:33<16:47,  2.71s/it]"
     ]
    },
    {
     "name": "stdout",
     "output_type": "stream",
     "text": [
      "Error fetching data for Dan McDougall: expected string or bytes-like object, got 'NoneType'\n"
     ]
    },
    {
     "name": "stderr",
     "output_type": "stream",
     "text": [
      " 63%|██████▎   | 629/1000 [37:34<14:06,  2.28s/it]"
     ]
    },
    {
     "name": "stdout",
     "output_type": "stream",
     "text": [
      "Failed to fetch data for Mary Liboiron: HTTP 404\n"
     ]
    },
    {
     "name": "stderr",
     "output_type": "stream",
     "text": [
      " 63%|██████▎   | 633/1000 [37:43<14:01,  2.29s/it]"
     ]
    },
    {
     "name": "stdout",
     "output_type": "stream",
     "text": [
      "Error fetching data for Don Bland: expected string or bytes-like object, got 'NoneType'\n"
     ]
    },
    {
     "name": "stderr",
     "output_type": "stream",
     "text": [
      " 64%|██████▎   | 637/1000 [37:51<13:34,  2.24s/it]"
     ]
    },
    {
     "name": "stdout",
     "output_type": "stream",
     "text": [
      "Failed to fetch data for Jamie Talisman: HTTP 404\n"
     ]
    },
    {
     "name": "stderr",
     "output_type": "stream",
     "text": [
      " 64%|██████▍   | 641/1000 [38:00<13:19,  2.23s/it]"
     ]
    },
    {
     "name": "stdout",
     "output_type": "stream",
     "text": [
      "Failed to fetch data for Richard Haus: HTTP 404\n"
     ]
    },
    {
     "name": "stderr",
     "output_type": "stream",
     "text": [
      " 64%|██████▍   | 644/1000 [38:06<12:30,  2.11s/it]"
     ]
    },
    {
     "name": "stdout",
     "output_type": "stream",
     "text": [
      "Failed to fetch data for Alan Tall: HTTP 404\n"
     ]
    },
    {
     "name": "stderr",
     "output_type": "stream",
     "text": [
      " 66%|██████▌   | 658/1000 [38:35<12:51,  2.26s/it]"
     ]
    },
    {
     "name": "stdout",
     "output_type": "stream",
     "text": [
      "Error fetching data for Mike Colter: expected string or bytes-like object, got 'NoneType'\n"
     ]
    },
    {
     "name": "stderr",
     "output_type": "stream",
     "text": [
      " 66%|██████▋   | 665/1000 [38:52<13:16,  2.38s/it]"
     ]
    },
    {
     "name": "stdout",
     "output_type": "stream",
     "text": [
      "Failed to fetch data for Eli Fucile: HTTP 404\n"
     ]
    },
    {
     "name": "stderr",
     "output_type": "stream",
     "text": [
      " 67%|██████▋   | 666/1000 [38:54<12:30,  2.25s/it]"
     ]
    },
    {
     "name": "stdout",
     "output_type": "stream",
     "text": [
      "Failed to fetch data for Bret Parker: HTTP 404\n"
     ]
    },
    {
     "name": "stderr",
     "output_type": "stream",
     "text": [
      " 67%|██████▋   | 667/1000 [38:57<14:23,  2.59s/it]"
     ]
    },
    {
     "name": "stdout",
     "output_type": "stream",
     "text": [
      "Failed to fetch data for Dominique Louis: HTTP 404\n"
     ]
    },
    {
     "name": "stderr",
     "output_type": "stream",
     "text": [
      " 67%|██████▋   | 668/1000 [38:59<14:02,  2.54s/it]"
     ]
    },
    {
     "name": "stdout",
     "output_type": "stream",
     "text": [
      "Failed to fetch data for Maeve Andrews: HTTP 404\n"
     ]
    },
    {
     "name": "stderr",
     "output_type": "stream",
     "text": [
      " 67%|██████▋   | 669/1000 [39:02<14:42,  2.67s/it]"
     ]
    },
    {
     "name": "stdout",
     "output_type": "stream",
     "text": [
      "Failed to fetch data for Dominique Louise Dhour: HTTP 404\n"
     ]
    },
    {
     "name": "stderr",
     "output_type": "stream",
     "text": [
      " 67%|██████▋   | 670/1000 [39:04<13:37,  2.48s/it]"
     ]
    },
    {
     "name": "stdout",
     "output_type": "stream",
     "text": [
      "Failed to fetch data for Kimberly Adair Clark: HTTP 404\n"
     ]
    },
    {
     "name": "stderr",
     "output_type": "stream",
     "text": [
      " 68%|██████▊   | 680/1000 [39:32<15:30,  2.91s/it]"
     ]
    },
    {
     "name": "stdout",
     "output_type": "stream",
     "text": [
      "Failed to fetch data for Julius Callahan: HTTP 404\n"
     ]
    },
    {
     "name": "stderr",
     "output_type": "stream",
     "text": [
      " 68%|██████▊   | 681/1000 [39:35<15:53,  2.99s/it]"
     ]
    },
    {
     "name": "stdout",
     "output_type": "stream",
     "text": [
      "Failed to fetch data for Tony Fucile: HTTP 404\n"
     ]
    },
    {
     "name": "stderr",
     "output_type": "stream",
     "text": [
      " 68%|██████▊   | 685/1000 [39:46<14:36,  2.78s/it]"
     ]
    },
    {
     "name": "stdout",
     "output_type": "stream",
     "text": [
      "Failed to fetch data for Lisa Hart Carroll: HTTP 404\n"
     ]
    },
    {
     "name": "stderr",
     "output_type": "stream",
     "text": [
      " 69%|██████▊   | 686/1000 [39:48<13:34,  2.59s/it]"
     ]
    },
    {
     "name": "stdout",
     "output_type": "stream",
     "text": [
      "Failed to fetch data for Troy Bishop: HTTP 404\n"
     ]
    },
    {
     "name": "stderr",
     "output_type": "stream",
     "text": [
      " 69%|██████▉   | 693/1000 [40:04<10:54,  2.13s/it]"
     ]
    },
    {
     "name": "stdout",
     "output_type": "stream",
     "text": [
      "Failed to fetch data for Michael Arkin: HTTP 404\n"
     ]
    },
    {
     "name": "stderr",
     "output_type": "stream",
     "text": [
      " 70%|██████▉   | 695/1000 [40:08<11:32,  2.27s/it]"
     ]
    },
    {
     "name": "stdout",
     "output_type": "stream",
     "text": [
      "Failed to fetch data for Eunice Prewitt: HTTP 404\n"
     ]
    },
    {
     "name": "stderr",
     "output_type": "stream",
     "text": [
      " 70%|███████   | 701/1000 [40:23<12:12,  2.45s/it]"
     ]
    },
    {
     "name": "stdout",
     "output_type": "stream",
     "text": [
      "Failed to fetch data for Peter Gatto: HTTP 404\n"
     ]
    },
    {
     "name": "stderr",
     "output_type": "stream",
     "text": [
      " 71%|███████   | 707/1000 [40:35<09:35,  1.96s/it]"
     ]
    },
    {
     "name": "stdout",
     "output_type": "stream",
     "text": [
      "Failed to fetch data for Ray Lepere: HTTP 404\n"
     ]
    },
    {
     "name": "stderr",
     "output_type": "stream",
     "text": [
      " 71%|███████   | 710/1000 [40:42<10:30,  2.17s/it]"
     ]
    },
    {
     "name": "stdout",
     "output_type": "stream",
     "text": [
      "Failed to fetch data for David Benn: HTTP 404\n"
     ]
    },
    {
     "name": "stderr",
     "output_type": "stream",
     "text": [
      " 73%|███████▎  | 728/1000 [41:23<10:32,  2.32s/it]"
     ]
    },
    {
     "name": "stdout",
     "output_type": "stream",
     "text": [
      "Error fetching data for Gale Hansen: expected string or bytes-like object, got 'NoneType'\n"
     ]
    },
    {
     "name": "stderr",
     "output_type": "stream",
     "text": [
      " 73%|███████▎  | 731/1000 [41:29<09:31,  2.12s/it]"
     ]
    },
    {
     "name": "stdout",
     "output_type": "stream",
     "text": [
      "Error fetching data for Allelon Ruggiero: expected string or bytes-like object, got 'NoneType'\n"
     ]
    },
    {
     "name": "stderr",
     "output_type": "stream",
     "text": [
      " 74%|███████▎  | 736/1000 [41:43<11:31,  2.62s/it]"
     ]
    },
    {
     "name": "stdout",
     "output_type": "stream",
     "text": [
      "Failed to fetch data for Cynthia Dale Scott: HTTP 404\n"
     ]
    },
    {
     "name": "stderr",
     "output_type": "stream",
     "text": [
      " 75%|███████▍  | 746/1000 [42:05<09:57,  2.35s/it]"
     ]
    },
    {
     "name": "stdout",
     "output_type": "stream",
     "text": [
      "Failed to fetch data for Marybeth Massett: HTTP 404\n"
     ]
    },
    {
     "name": "stderr",
     "output_type": "stream",
     "text": [
      " 75%|███████▍  | 747/1000 [42:08<10:21,  2.46s/it]"
     ]
    },
    {
     "name": "stdout",
     "output_type": "stream",
     "text": [
      "Failed to fetch data for Bryan Barter: HTTP 404\n"
     ]
    },
    {
     "name": "stderr",
     "output_type": "stream",
     "text": [
      " 75%|███████▍  | 748/1000 [42:11<11:36,  2.77s/it]"
     ]
    },
    {
     "name": "stdout",
     "output_type": "stream",
     "text": [
      "Failed to fetch data for Christopher Khai: HTTP 404\n"
     ]
    },
    {
     "name": "stderr",
     "output_type": "stream",
     "text": [
      " 75%|███████▌  | 750/1000 [42:16<11:04,  2.66s/it]"
     ]
    },
    {
     "name": "stdout",
     "output_type": "stream",
     "text": [
      "Failed to fetch data for Toby Meuli: HTTP 404\n"
     ]
    },
    {
     "name": "stderr",
     "output_type": "stream",
     "text": [
      " 75%|███████▌  | 751/1000 [42:19<10:39,  2.57s/it]"
     ]
    },
    {
     "name": "stdout",
     "output_type": "stream",
     "text": [
      "Failed to fetch data for Eamon Brooks: HTTP 404\n"
     ]
    },
    {
     "name": "stderr",
     "output_type": "stream",
     "text": [
      " 75%|███████▌  | 752/1000 [42:20<09:37,  2.33s/it]"
     ]
    },
    {
     "name": "stdout",
     "output_type": "stream",
     "text": [
      "Failed to fetch data for Patrick Mapel: HTTP 404\n"
     ]
    },
    {
     "name": "stderr",
     "output_type": "stream",
     "text": [
      " 75%|███████▌  | 753/1000 [42:23<09:39,  2.35s/it]"
     ]
    },
    {
     "name": "stdout",
     "output_type": "stream",
     "text": [
      "Failed to fetch data for Michael L. Bash: HTTP 404\n"
     ]
    },
    {
     "name": "stderr",
     "output_type": "stream",
     "text": [
      " 76%|███████▌  | 755/1000 [42:27<09:04,  2.22s/it]"
     ]
    },
    {
     "name": "stdout",
     "output_type": "stream",
     "text": [
      "Failed to fetch data for Kyle Fain: HTTP 404\n"
     ]
    },
    {
     "name": "stderr",
     "output_type": "stream",
     "text": [
      " 76%|███████▌  | 756/1000 [42:30<09:19,  2.29s/it]"
     ]
    },
    {
     "name": "stdout",
     "output_type": "stream",
     "text": [
      "Failed to fetch data for Lacey Beeman: HTTP 404\n"
     ]
    },
    {
     "name": "stderr",
     "output_type": "stream",
     "text": [
      " 76%|███████▌  | 757/1000 [42:33<10:45,  2.66s/it]"
     ]
    },
    {
     "name": "stdout",
     "output_type": "stream",
     "text": [
      "Failed to fetch data for Mariah Bonner: HTTP 404\n"
     ]
    },
    {
     "name": "stderr",
     "output_type": "stream",
     "text": [
      " 79%|███████▉  | 789/1000 [43:44<07:40,  2.18s/it]"
     ]
    },
    {
     "name": "stdout",
     "output_type": "stream",
     "text": [
      "Failed to fetch data for Aleksander Mincer: HTTP 404\n"
     ]
    },
    {
     "name": "stderr",
     "output_type": "stream",
     "text": [
      " 79%|███████▉  | 791/1000 [43:50<08:20,  2.39s/it]"
     ]
    },
    {
     "name": "stdout",
     "output_type": "stream",
     "text": [
      "Failed to fetch data for Giacinto Ferro: HTTP 404\n"
     ]
    },
    {
     "name": "stderr",
     "output_type": "stream",
     "text": [
      " 80%|███████▉  | 797/1000 [44:00<05:53,  1.74s/it]"
     ]
    },
    {
     "name": "stdout",
     "output_type": "stream",
     "text": [
      "Failed to fetch data for Emma Rose Lima: HTTP 404\n"
     ]
    },
    {
     "name": "stderr",
     "output_type": "stream",
     "text": [
      " 81%|████████▏ | 814/1000 [44:35<06:10,  1.99s/it]"
     ]
    },
    {
     "name": "stdout",
     "output_type": "stream",
     "text": [
      "Failed to fetch data for Sandra Taylor: HTTP 404\n"
     ]
    },
    {
     "name": "stderr",
     "output_type": "stream",
     "text": [
      " 82%|████████▏ | 815/1000 [44:37<05:52,  1.90s/it]"
     ]
    },
    {
     "name": "stdout",
     "output_type": "stream",
     "text": [
      "Failed to fetch data for Elisabeth Granli: HTTP 404\n"
     ]
    },
    {
     "name": "stderr",
     "output_type": "stream",
     "text": [
      " 82%|████████▏ | 819/1000 [44:48<07:35,  2.52s/it]"
     ]
    },
    {
     "name": "stdout",
     "output_type": "stream",
     "text": [
      "Failed to fetch data for Lindsay Holiday: HTTP 404\n"
     ]
    },
    {
     "name": "stderr",
     "output_type": "stream",
     "text": [
      " 82%|████████▏ | 821/1000 [44:53<07:45,  2.60s/it]"
     ]
    },
    {
     "name": "stdout",
     "output_type": "stream",
     "text": [
      "Failed to fetch data for Richard Leparmentier: HTTP 404\n"
     ]
    },
    {
     "name": "stderr",
     "output_type": "stream",
     "text": [
      " 82%|████████▏ | 823/1000 [44:58<07:43,  2.62s/it]"
     ]
    },
    {
     "name": "stdout",
     "output_type": "stream",
     "text": [
      "Error fetching data for Edwin Craig: expected string or bytes-like object, got 'NoneType'\n"
     ]
    },
    {
     "name": "stderr",
     "output_type": "stream",
     "text": [
      " 84%|████████▍ | 843/1000 [45:44<05:35,  2.14s/it]"
     ]
    },
    {
     "name": "stdout",
     "output_type": "stream",
     "text": [
      "Failed to fetch data for Dan Charles Zukoski: HTTP 404\n"
     ]
    },
    {
     "name": "stderr",
     "output_type": "stream",
     "text": [
      " 86%|████████▌ | 858/1000 [46:20<04:44,  2.01s/it]"
     ]
    },
    {
     "name": "stdout",
     "output_type": "stream",
     "text": [
      "Failed to fetch data for Ian Brimble: HTTP 404\n"
     ]
    },
    {
     "name": "stderr",
     "output_type": "stream",
     "text": [
      " 86%|████████▌ | 862/1000 [46:31<05:51,  2.55s/it]"
     ]
    },
    {
     "name": "stdout",
     "output_type": "stream",
     "text": [
      "Failed to fetch data for Ryuichiro Baba: HTTP 404\n"
     ]
    },
    {
     "name": "stderr",
     "output_type": "stream",
     "text": [
      " 86%|████████▋ | 864/1000 [46:36<05:55,  2.61s/it]"
     ]
    },
    {
     "name": "stdout",
     "output_type": "stream",
     "text": [
      "Failed to fetch data for Fumihiro Hayashi: HTTP 404\n"
     ]
    },
    {
     "name": "stderr",
     "output_type": "stream",
     "text": [
      " 86%|████████▋ | 865/1000 [46:39<06:07,  2.72s/it]"
     ]
    },
    {
     "name": "stdout",
     "output_type": "stream",
     "text": [
      "Failed to fetch data for Hiroko Kawasaki: HTTP 404\n"
     ]
    },
    {
     "name": "stderr",
     "output_type": "stream",
     "text": [
      " 87%|████████▋ | 866/1000 [46:40<05:24,  2.42s/it]"
     ]
    },
    {
     "name": "stdout",
     "output_type": "stream",
     "text": [
      "Failed to fetch data for Kazuyoshi Minamimagoe: HTTP 404\n"
     ]
    },
    {
     "name": "stderr",
     "output_type": "stream",
     "text": [
      " 87%|████████▋ | 868/1000 [46:45<05:10,  2.35s/it]"
     ]
    },
    {
     "name": "stdout",
     "output_type": "stream",
     "text": [
      "Failed to fetch data for Akiko Takeshita: HTTP 404\n"
     ]
    },
    {
     "name": "stderr",
     "output_type": "stream",
     "text": [
      " 87%|████████▋ | 869/1000 [46:47<04:59,  2.29s/it]"
     ]
    },
    {
     "name": "stdout",
     "output_type": "stream",
     "text": [
      "Failed to fetch data for Gregory Pekar: HTTP 404\n"
     ]
    },
    {
     "name": "stderr",
     "output_type": "stream",
     "text": [
      " 88%|████████▊ | 876/1000 [47:02<04:37,  2.24s/it]"
     ]
    },
    {
     "name": "stdout",
     "output_type": "stream",
     "text": [
      "Failed to fetch data for Thomas Lawinky: HTTP 404\n"
     ]
    },
    {
     "name": "stderr",
     "output_type": "stream",
     "text": [
      " 88%|████████▊ | 877/1000 [47:05<05:15,  2.56s/it]"
     ]
    },
    {
     "name": "stdout",
     "output_type": "stream",
     "text": [
      "Failed to fetch data for Udo Kroschwald: HTTP 404\n"
     ]
    },
    {
     "name": "stderr",
     "output_type": "stream",
     "text": [
      " 88%|████████▊ | 880/1000 [47:12<04:35,  2.30s/it]"
     ]
    },
    {
     "name": "stdout",
     "output_type": "stream",
     "text": [
      "Failed to fetch data for Joachim Paul Assböck: HTTP 404\n"
     ]
    },
    {
     "name": "stderr",
     "output_type": "stream",
     "text": [
      " 88%|████████▊ | 883/1000 [47:21<05:13,  2.68s/it]"
     ]
    },
    {
     "name": "stdout",
     "output_type": "stream",
     "text": [
      "Failed to fetch data for Nomi Sharron: HTTP 404\n"
     ]
    },
    {
     "name": "stderr",
     "output_type": "stream",
     "text": [
      " 88%|████████▊ | 885/1000 [47:26<04:51,  2.54s/it]"
     ]
    },
    {
     "name": "stdout",
     "output_type": "stream",
     "text": [
      "Failed to fetch data for Ben Harlan: HTTP 404\n"
     ]
    },
    {
     "name": "stderr",
     "output_type": "stream",
     "text": [
      " 89%|████████▉ | 891/1000 [47:41<04:50,  2.66s/it]"
     ]
    },
    {
     "name": "stdout",
     "output_type": "stream",
     "text": [
      "Failed to fetch data for Wanja Mues: HTTP 404\n"
     ]
    },
    {
     "name": "stderr",
     "output_type": "stream",
     "text": [
      " 91%|█████████ | 906/1000 [48:18<03:46,  2.41s/it]"
     ]
    },
    {
     "name": "stdout",
     "output_type": "stream",
     "text": [
      "Failed to fetch data for Frances De La Tour: HTTP 404\n"
     ]
    },
    {
     "name": "stderr",
     "output_type": "stream",
     "text": [
      " 92%|█████████▏| 921/1000 [48:54<03:18,  2.52s/it]"
     ]
    },
    {
     "name": "stdout",
     "output_type": "stream",
     "text": [
      "Failed to fetch data for Andrew MacKin: HTTP 404\n"
     ]
    },
    {
     "name": "stderr",
     "output_type": "stream",
     "text": [
      " 92%|█████████▏| 923/1000 [48:58<03:06,  2.42s/it]"
     ]
    },
    {
     "name": "stdout",
     "output_type": "stream",
     "text": [
      "Failed to fetch data for Tori Davis: HTTP 404\n"
     ]
    },
    {
     "name": "stderr",
     "output_type": "stream",
     "text": [
      " 94%|█████████▍| 941/1000 [49:42<02:01,  2.05s/it]"
     ]
    },
    {
     "name": "stdout",
     "output_type": "stream",
     "text": [
      "Failed to fetch data for Patricia Decou: HTTP 404\n"
     ]
    },
    {
     "name": "stderr",
     "output_type": "stream",
     "text": [
      " 96%|█████████▌| 955/1000 [50:13<01:49,  2.42s/it]"
     ]
    },
    {
     "name": "stdout",
     "output_type": "stream",
     "text": [
      "Failed to fetch data for Abby Ford: HTTP 404\n"
     ]
    },
    {
     "name": "stderr",
     "output_type": "stream",
     "text": [
      " 96%|█████████▌| 958/1000 [50:21<01:45,  2.52s/it]"
     ]
    },
    {
     "name": "stdout",
     "output_type": "stream",
     "text": [
      "Failed to fetch data for Lewis Barnshaw: HTTP 404\n"
     ]
    },
    {
     "name": "stderr",
     "output_type": "stream",
     "text": [
      " 96%|█████████▌| 962/1000 [50:30<01:26,  2.26s/it]"
     ]
    },
    {
     "name": "stdout",
     "output_type": "stream",
     "text": [
      "Failed to fetch data for Annalisa Bugliani: HTTP 404\n"
     ]
    },
    {
     "name": "stderr",
     "output_type": "stream",
     "text": [
      " 96%|█████████▋| 963/1000 [50:32<01:27,  2.37s/it]"
     ]
    },
    {
     "name": "stdout",
     "output_type": "stream",
     "text": [
      "Failed to fetch data for Sharon Sandhu: HTTP 404\n"
     ]
    },
    {
     "name": "stderr",
     "output_type": "stream",
     "text": [
      " 97%|█████████▋| 967/1000 [50:42<01:23,  2.52s/it]"
     ]
    },
    {
     "name": "stdout",
     "output_type": "stream",
     "text": [
      "Failed to fetch data for Evelyn Krape: HTTP 404\n"
     ]
    },
    {
     "name": "stderr",
     "output_type": "stream",
     "text": [
      " 97%|█████████▋| 969/1000 [50:47<01:19,  2.57s/it]"
     ]
    },
    {
     "name": "stdout",
     "output_type": "stream",
     "text": [
      "Failed to fetch data for Michael Edward-Stevens: HTTP 404\n"
     ]
    },
    {
     "name": "stderr",
     "output_type": "stream",
     "text": [
      " 98%|█████████▊| 976/1000 [51:01<00:46,  1.93s/it]"
     ]
    },
    {
     "name": "stdout",
     "output_type": "stream",
     "text": [
      "Failed to fetch data for McGhee Monteith: HTTP 404\n"
     ]
    },
    {
     "name": "stderr",
     "output_type": "stream",
     "text": [
      " 98%|█████████▊| 977/1000 [51:04<00:51,  2.24s/it]"
     ]
    },
    {
     "name": "stdout",
     "output_type": "stream",
     "text": [
      "Failed to fetch data for Brittany Shaw: HTTP 404\n"
     ]
    },
    {
     "name": "stderr",
     "output_type": "stream",
     "text": [
      " 98%|█████████▊| 978/1000 [51:06<00:51,  2.32s/it]"
     ]
    },
    {
     "name": "stdout",
     "output_type": "stream",
     "text": [
      "Failed to fetch data for Victoria Hester: HTTP 404\n"
     ]
    },
    {
     "name": "stderr",
     "output_type": "stream",
     "text": [
      " 98%|█████████▊| 979/1000 [51:08<00:46,  2.20s/it]"
     ]
    },
    {
     "name": "stdout",
     "output_type": "stream",
     "text": [
      "Error fetching data for Johnathan Rice: expected string or bytes-like object, got 'NoneType'\n"
     ]
    },
    {
     "name": "stderr",
     "output_type": "stream",
     "text": [
      " 98%|█████████▊| 980/1000 [51:11<00:47,  2.36s/it]"
     ]
    },
    {
     "name": "stdout",
     "output_type": "stream",
     "text": [
      "Failed to fetch data for Clay Steakley: HTTP 404\n"
     ]
    },
    {
     "name": "stderr",
     "output_type": "stream",
     "text": [
      " 98%|█████████▊| 985/1000 [51:22<00:32,  2.14s/it]"
     ]
    },
    {
     "name": "stdout",
     "output_type": "stream",
     "text": [
      "Failed to fetch data for Sandra Ellis Lafferty: HTTP 404\n"
     ]
    },
    {
     "name": "stderr",
     "output_type": "stream",
     "text": [
      " 99%|█████████▊| 986/1000 [51:25<00:33,  2.39s/it]"
     ]
    },
    {
     "name": "stdout",
     "output_type": "stream",
     "text": [
      "Error fetching data for Shelby Lynne: expected string or bytes-like object, got 'NoneType'\n"
     ]
    },
    {
     "name": "stderr",
     "output_type": "stream",
     "text": [
      " 99%|█████████▊| 987/1000 [51:28<00:33,  2.55s/it]"
     ]
    },
    {
     "name": "stdout",
     "output_type": "stream",
     "text": [
      "Failed to fetch data for Delaney Keefe: HTTP 404\n"
     ]
    },
    {
     "name": "stderr",
     "output_type": "stream",
     "text": [
      " 99%|█████████▉| 989/1000 [51:32<00:25,  2.29s/it]"
     ]
    },
    {
     "name": "stdout",
     "output_type": "stream",
     "text": [
      "Failed to fetch data for Chanty Sok: HTTP 404\n"
     ]
    },
    {
     "name": "stderr",
     "output_type": "stream",
     "text": [
      " 99%|█████████▉| 991/1000 [51:38<00:23,  2.58s/it]"
     ]
    },
    {
     "name": "stdout",
     "output_type": "stream",
     "text": [
      "Failed to fetch data for Salvatore Santone: HTTP 404\n"
     ]
    },
    {
     "name": "stderr",
     "output_type": "stream",
     "text": [
      " 99%|█████████▉| 992/1000 [51:40<00:19,  2.41s/it]"
     ]
    },
    {
     "name": "stdout",
     "output_type": "stream",
     "text": [
      "Failed to fetch data for Mickey O%27Keefe: HTTP 404\n"
     ]
    },
    {
     "name": "stderr",
     "output_type": "stream",
     "text": [
      " 99%|█████████▉| 994/1000 [51:45<00:15,  2.61s/it]"
     ]
    },
    {
     "name": "stdout",
     "output_type": "stream",
     "text": [
      "Failed to fetch data for Kate B. O%27Brien: HTTP 404\n"
     ]
    },
    {
     "name": "stderr",
     "output_type": "stream",
     "text": [
      "100%|█████████▉| 995/1000 [51:47<00:12,  2.44s/it]"
     ]
    },
    {
     "name": "stdout",
     "output_type": "stream",
     "text": [
      "Failed to fetch data for Jill Quigg: HTTP 404\n"
     ]
    },
    {
     "name": "stderr",
     "output_type": "stream",
     "text": [
      "100%|█████████▉| 996/1000 [51:49<00:09,  2.31s/it]"
     ]
    },
    {
     "name": "stdout",
     "output_type": "stream",
     "text": [
      "Error fetching data for Bianca Hunter: expected string or bytes-like object, got 'NoneType'\n"
     ]
    },
    {
     "name": "stderr",
     "output_type": "stream",
     "text": [
      "100%|█████████▉| 997/1000 [51:52<00:06,  2.33s/it]"
     ]
    },
    {
     "name": "stdout",
     "output_type": "stream",
     "text": [
      "Failed to fetch data for Melissa McMeekin: HTTP 404\n"
     ]
    },
    {
     "name": "stderr",
     "output_type": "stream",
     "text": [
      "100%|██████████| 1000/1000 [52:00<00:00,  3.12s/it]"
     ]
    },
    {
     "name": "stdout",
     "output_type": "stream",
     "text": [
      "Scraping completed.\n"
     ]
    },
    {
     "name": "stderr",
     "output_type": "stream",
     "text": [
      "\n"
     ]
    },
    {
     "data": {
      "text/html": [
       "<div>\n",
       "<style scoped>\n",
       "    .dataframe tbody tr th:only-of-type {\n",
       "        vertical-align: middle;\n",
       "    }\n",
       "\n",
       "    .dataframe tbody tr th {\n",
       "        vertical-align: top;\n",
       "    }\n",
       "\n",
       "    .dataframe thead th {\n",
       "        text-align: right;\n",
       "    }\n",
       "</style>\n",
       "<table border=\"1\" class=\"dataframe\">\n",
       "  <thead>\n",
       "    <tr style=\"text-align: right;\">\n",
       "      <th></th>\n",
       "      <th>Actor date of birth</th>\n",
       "      <th>Actor gender</th>\n",
       "      <th>Actor height</th>\n",
       "      <th>Actor ethnicity</th>\n",
       "      <th>Actor age at movie release</th>\n",
       "      <th>Actor Score Index</th>\n",
       "      <th>Gender</th>\n",
       "      <th>University</th>\n",
       "      <th>Theater</th>\n",
       "      <th>Sports</th>\n",
       "      <th>Birth City</th>\n",
       "      <th>Date of Birth</th>\n",
       "      <th>Citizenship</th>\n",
       "      <th>Number of Children</th>\n",
       "      <th>Career Start</th>\n",
       "    </tr>\n",
       "    <tr>\n",
       "      <th>Actor name</th>\n",
       "      <th></th>\n",
       "      <th></th>\n",
       "      <th></th>\n",
       "      <th></th>\n",
       "      <th></th>\n",
       "      <th></th>\n",
       "      <th></th>\n",
       "      <th></th>\n",
       "      <th></th>\n",
       "      <th></th>\n",
       "      <th></th>\n",
       "      <th></th>\n",
       "      <th></th>\n",
       "      <th></th>\n",
       "      <th></th>\n",
       "    </tr>\n",
       "  </thead>\n",
       "  <tbody>\n",
       "    <tr>\n",
       "      <th>Denzel Washington</th>\n",
       "      <td>1954-12-28</td>\n",
       "      <td>M</td>\n",
       "      <td>1.84</td>\n",
       "      <td>/m/0x67</td>\n",
       "      <td>26.0</td>\n",
       "      <td>10.000000</td>\n",
       "      <td>Male</td>\n",
       "      <td>Ryerson Theatre School</td>\n",
       "      <td>Yes</td>\n",
       "      <td>None</td>\n",
       "      <td>4</td>\n",
       "      <td>1975</td>\n",
       "    </tr>\n",
       "    <tr>\n",
       "      <th>Matt Damon</th>\n",
       "      <td>1970-10-08</td>\n",
       "      <td>M</td>\n",
       "      <td>1.78</td>\n",
       "      <td>/m/0cnvdq1</td>\n",
       "      <td>18.0</td>\n",
       "      <td>9.912690</td>\n",
       "      <td>Male</td>\n",
       "      <td>Harvard University dropped out</td>\n",
       "      <td>Yes</td>\n",
       "      <td>None</td>\n",
       "      <td>None</td>\n",
       "      <td>1982</td>\n",
       "    </tr>\n",
       "    <tr>\n",
       "      <th>Tom Hanks</th>\n",
       "      <td>1956-07-09</td>\n",
       "      <td>M</td>\n",
       "      <td>1.83</td>\n",
       "      <td>/m/02p4q5p</td>\n",
       "      <td>27.0</td>\n",
       "      <td>9.741555</td>\n",
       "      <td>Male</td>\n",
       "      <td>None</td>\n",
       "      <td>Yes</td>\n",
       "      <td>None</td>\n",
       "      <td>Concord California US</td>\n",
       "      <td>1956-07-09</td>\n",
       "      <td>United States, Greece1</td>\n",
       "      <td>4</td>\n",
       "      <td>1977</td>\n",
       "    </tr>\n",
       "    <tr>\n",
       "      <th>Eddie Murphy</th>\n",
       "      <td>1961-04-03</td>\n",
       "      <td>M</td>\n",
       "      <td>1.75</td>\n",
       "      <td>/m/0x67</td>\n",
       "      <td>21.0</td>\n",
       "      <td>9.415060</td>\n",
       "      <td>Male</td>\n",
       "      <td>None</td>\n",
       "      <td>None</td>\n",
       "      <td>1973</td>\n",
       "    </tr>\n",
       "    <tr>\n",
       "      <th>Tom Cruise</th>\n",
       "      <td>1962-07-03</td>\n",
       "      <td>M</td>\n",
       "      <td>1.70</td>\n",
       "      <td>/m/02ctzb</td>\n",
       "      <td>18.0</td>\n",
       "      <td>9.362255</td>\n",
       "      <td>Male</td>\n",
       "      <td>None</td>\n",
       "      <td>None</td>\n",
       "      <td>None</td>\n",
       "      <td>3</td>\n",
       "      <td>1980</td>\n",
       "    </tr>\n",
       "    <tr>\n",
       "      <th>Frank Welker</th>\n",
       "      <td>1946-03-12</td>\n",
       "      <td>M</td>\n",
       "      <td>1.730</td>\n",
       "      <td>None</td>\n",
       "      <td>38.0</td>\n",
       "      <td>8.787846</td>\n",
       "      <td>Male</td>\n",
       "      <td>Santa Monica College</td>\n",
       "      <td>None</td>\n",
       "      <td>None</td>\n",
       "      <td>None</td>\n",
       "      <td>None</td>\n",
       "      <td>1967</td>\n",
       "    </tr>\n",
       "    <tr>\n",
       "      <th>Harrison Ford</th>\n",
       "      <td>1942-07-13</td>\n",
       "      <td>M</td>\n",
       "      <td>1.850</td>\n",
       "      <td>/m/01qhm_</td>\n",
       "      <td>38.0</td>\n",
       "      <td>8.450475</td>\n",
       "      <td>Male</td>\n",
       "      <td>None</td>\n",
       "      <td>None</td>\n",
       "    </tr>\n",
       "    <tr>\n",
       "      <th>James Woods</th>\n",
       "      <td>1947-04-18</td>\n",
       "      <td>M</td>\n",
       "      <td>1.803</td>\n",
       "      <td>None</td>\n",
       "      <td>35.0</td>\n",
       "      <td>8.180804</td>\n",
       "      <td>None</td>\n",
       "      <td>None</td>\n",
       "      <td>Yes</td>\n",
       "      <td>None</td>\n",
       "      <td>Vernal Utah US</td>\n",
       "      <td>1947-04-18</td>\n",
       "      <td>None</td>\n",
       "      <td>None</td>\n",
       "      <td>1969</td>\n",
       "    </tr>\n",
       "    <tr>\n",
       "      <th>Michelle Pfeiffer</th>\n",
       "      <td>1958-04-29</td>\n",
       "      <td>F</td>\n",
       "      <td>1.710</td>\n",
       "      <td>/m/065b6q</td>\n",
       "      <td>21.0</td>\n",
       "      <td>8.174009</td>\n",
       "      <td>Female</td>\n",
       "      <td>None</td>\n",
       "      <td>None</td>\n",
       "      <td>None</td>\n",
       "      <td>Santa Ana California US</td>\n",
       "      <td>1958-04-29</td>\n",
       "      <td>None</td>\n",
       "      <td>2</td>\n",
       "      <td>1978</td>\n",
       "    </tr>\n",
       "    <tr>\n",
       "      <th>Trey Parker</th>\n",
       "      <td>1969-10-19</td>\n",
       "      <td>M</td>\n",
       "      <td>1.850</td>\n",
       "      <td>None</td>\n",
       "      <td>27.0</td>\n",
       "      <td>8.156354</td>\n",
       "      <td>Male</td>\n",
       "      <td>None</td>\n",
       "      <td>None</td>\n",
       "      <td>1</td>\n",
       "      <td>1992</td>\n",
       "    </tr>\n",
       "    <tr>\n",
       "      <th>Samuel L. Jackson</th>\n",
       "      <td>1948-12-21</td>\n",
       "      <td>M</td>\n",
       "      <td>1.890</td>\n",
       "      <td>/m/0x67</td>\n",
       "      <td>39.0</td>\n",
       "      <td>8.129855</td>\n",
       "      <td>Male</td>\n",
       "      <td>Morehouse College BA</td>\n",
       "      <td>Yes</td>\n",
       "      <td>None</td>\n",
       "      <td>Washington DC US</td>\n",
       "      <td>1948-12-21</td>\n",
       "      <td>United States Gabon</td>\n",
       "      <td>1</td>\n",
       "      <td>1972</td>\n",
       "    </tr>\n",
       "    <tr>\n",
       "      <th>Richard Jenkins</th>\n",
       "      <td>1947-05-04</td>\n",
       "      <td>M</td>\n",
       "      <td>1.850</td>\n",
       "      <td>None</td>\n",
       "      <td>38.0</td>\n",
       "      <td>8.063021</td>\n",
       "      <td>Male</td>\n",
       "      <td>Illinois Wesleyan University</td>\n",
       "      <td>None</td>\n",
       "      <td>None</td>\n",
       "      <td>1982</td>\n",
       "    </tr>\n",
       "    <tr>\n",
       "      <th>Danny Devito</th>\n",
       "      <td>1944-11-17</td>\n",
       "      <td>M</td>\n",
       "      <td>1.520</td>\n",
       "      <td>/m/0xnvg</td>\n",
       "      <td>39.0</td>\n",
       "      <td>8.004749</td>\n",
       "      <td>Male</td>\n",
       "      <td>American Academy of Dramatic Arts</td>\n",
       "      <td>Yes</td>\n",
       "      <td>None</td>\n",
       "      <td>Neptune New Jersey US</td>\n",
       "      <td>1944-11-17</td>\n",
       "      <td>None</td>\n",
       "      <td>3</td>\n",
       "      <td>1969</td>\n",
       "    </tr>\n",
       "    <tr>\n",
       "      <th>Kirsten Dunst</th>\n",
       "      <td>1982-04-30</td>\n",
       "      <td>F</td>\n",
       "      <td>1.700</td>\n",
       "      <td>/m/01qhm_</td>\n",
       "      <td>6.0</td>\n",
       "      <td>7.966812</td>\n",
       "      <td>Female</td>\n",
       "      <td>None</td>\n",
       "      <td>None</td>\n",
       "      <td>None</td>\n",
       "      <td>Stockholm Sweden</td>\n",
       "      <td>1978-06-07</td>\n",
       "      <td>None</td>\n",
       "      <td>2</td>\n",
       "      <td>1987</td>\n",
       "    </tr>\n",
       "    <tr>\n",
       "      <th>Chris Rock</th>\n",
       "      <td>1965-02-07</td>\n",
       "      <td>M</td>\n",
       "      <td>1.800</td>\n",
       "      <td>/m/0x67</td>\n",
       "      <td>22.0</td>\n",
       "      <td>7.965746</td>\n",
       "      <td>Male</td>\n",
       "      <td>None</td>\n",
       "      <td>None</td>\n",
       "      <td>None</td>\n",
       "      <td>Andrews South Carolina</td>\n",
       "      <td>1965-02-07</td>\n",
       "      <td>None</td>\n",
       "      <td>2</td>\n",
       "      <td>1984</td>\n",
       "    </tr>\n",
       "    <tr>\n",
       "      <th>Robert De Niro</th>\n",
       "      <td>1943-08-17</td>\n",
       "      <td>M</td>\n",
       "      <td>1.770</td>\n",
       "      <td>/m/0xnvg</td>\n",
       "      <td>37.0</td>\n",
       "      <td>7.958091</td>\n",
       "      <td>Male</td>\n",
       "      <td>None</td>\n",
       "      <td>None</td>\n",
       "      <td>None</td>\n",
       "      <td>New York City US</td>\n",
       "      <td>1943-08-17</td>\n",
       "      <td>United StatesItaly</td>\n",
       "      <td>7</td>\n",
       "      <td>1963</td>\n",
       "    </tr>\n",
       "    <tr>\n",
       "      <th>George Clooney</th>\n",
       "      <td>1961-05-06</td>\n",
       "      <td>M</td>\n",
       "      <td>1.800</td>\n",
       "      <td>/m/033tf_</td>\n",
       "      <td>34.0</td>\n",
       "      <td>7.915680</td>\n",
       "      <td>Male</td>\n",
       "      <td>Northern Kentucky University</td>\n",
       "      <td>None</td>\n",
       "      <td>Basketball</td>\n",
       "      <td>Lexington Kentucky US</td>\n",
       "      <td>1961-05-06</td>\n",
       "      <td>None</td>\n",
       "      <td>2</td>\n",
       "      <td>1978</td>\n",
       "    </tr>\n",
       "    <tr>\n",
       "      <th>Jim Carrey</th>\n",
       "      <td>1962-01-17</td>\n",
       "      <td>M</td>\n",
       "      <td>1.867</td>\n",
       "      <td>/m/0g8_vp</td>\n",
       "      <td>23.0</td>\n",
       "      <td>7.826027</td>\n",
       "      <td>Male</td>\n",
       "      <td>None</td>\n",
       "      <td>None</td>\n",
       "      <td>None</td>\n",
       "      <td>Newmarket Ontario Canada</td>\n",
       "      <td>1962-01-17</td>\n",
       "      <td>Canada, United States1</td>\n",
       "      <td>1</td>\n",
       "      <td>1993</td>\n",
       "    </tr>\n",
       "    <tr>\n",
       "      <th>Kevin Costner</th>\n",
       "      <td>1955-01-18</td>\n",
       "      <td>M</td>\n",
       "      <td>1.850</td>\n",
       "      <td>/m/09vc4s</td>\n",
       "      <td>30.0</td>\n",
       "      <td>7.776851</td>\n",
       "      <td>Male</td>\n",
       "      <td>California State University Fullerton BA</td>\n",
       "      <td>None</td>\n",
       "      <td>None</td>\n",
       "      <td>7</td>\n",
       "      <td>1978</td>\n",
       "    </tr>\n",
       "    <tr>\n",
       "      <th>Stanley Tucci</th>\n",
       "      <td>1960-11-11</td>\n",
       "      <td>M</td>\n",
       "      <td>1.721</td>\n",
       "      <td>/m/0xnvg</td>\n",
       "      <td>29.0</td>\n",
       "      <td>7.767929</td>\n",
       "      <td>Male</td>\n",
       "      <td>State University of New York Purchase BFA</td>\n",
       "      <td>None</td>\n",
       "      <td>None</td>\n",
       "      <td>5</td>\n",
       "      <td>1982</td>\n",
       "    </tr>\n",
       "    <tr>\n",
       "      <th>Clint Eastwood</th>\n",
       "      <td>1930-05-31</td>\n",
       "      <td>M</td>\n",
       "      <td>1.880</td>\n",
       "      <td>/m/09vc4s</td>\n",
       "      <td>50.0</td>\n",
       "      <td>7.738973</td>\n",
       "      <td>Male</td>\n",
       "      <td>None</td>\n",
       "      <td>None</td>\n",
       "      <td>None</td>\n",
       "      <td>None</td>\n",
       "      <td>8</td>\n",
       "      <td>1963</td>\n",
       "    </tr>\n",
       "    <tr>\n",
       "      <th>Jonah Hill</th>\n",
       "      <td>1983-12-20</td>\n",
       "      <td>M</td>\n",
       "      <td>1.700</td>\n",
       "      <td>/m/041rx</td>\n",
       "      <td>21.0</td>\n",
       "      <td>7.732380</td>\n",
       "      <td>Male</td>\n",
       "      <td>The New SchoolBard CollegeUniversity of Colora...</td>\n",
       "      <td>None</td>\n",
       "    </tr>\n",
       "    <tr>\n",
       "      <th>Nicole Kidman</th>\n",
       "      <td>1967-06-20</td>\n",
       "      <td>F</td>\n",
       "      <td>1.791</td>\n",
       "      <td>/m/03bkbh</td>\n",
       "      <td>23.0</td>\n",
       "      <td>7.718323</td>\n",
       "      <td>Male</td>\n",
       "      <td>None</td>\n",
       "      <td>Yes</td>\n",
       "      <td>Ballet</td>\n",
       "      <td>Honolulu Hawaii US</td>\n",
       "      <td>1967-06-20</td>\n",
       "      <td>Australia from parentsUnited States by birthplace</td>\n",
       "      <td>4</td>\n",
       "      <td>1983</td>\n",
       "    </tr>\n",
       "    <tr>\n",
       "      <th>Arnold Schwarzenegger</th>\n",
       "      <td>1947-07-30</td>\n",
       "      <td>M</td>\n",
       "      <td>1.880</td>\n",
       "      <td>/m/019lrz</td>\n",
       "      <td>34.0</td>\n",
       "      <td>7.692562</td>\n",
       "      <td>Male</td>\n",
       "      <td>Santa Monica College, UCLA Extension, Universi...</td>\n",
       "      <td>Yes</td>\n",
       "      <td>Dance</td>\n",
       "      <td>Austria</td>\n",
       "      <td>1947-07-30</td>\n",
       "      <td>AustriaUnited States</td>\n",
       "      <td>5</td>\n",
       "      <td>None</td>\n",
       "    </tr>\n",
       "    <tr>\n",
       "      <th>Mark Wahlberg</th>\n",
       "      <td>1971-06-05</td>\n",
       "      <td>M</td>\n",
       "      <td>1.700</td>\n",
       "      <td>/m/065b6q</td>\n",
       "      <td>22.0</td>\n",
       "      <td>7.671580</td>\n",
       "      <td>Male</td>\n",
       "      <td>None</td>\n",
       "      <td>None</td>\n",
       "      <td>None</td>\n",
       "      <td>None</td>\n",
       "      <td>4</td>\n",
       "      <td>1984</td>\n",
       "    </tr>\n",
       "    <tr>\n",
       "      <th>Hank Azaria</th>\n",
       "      <td>1964-04-25</td>\n",
       "      <td>M</td>\n",
       "      <td>1.820</td>\n",
       "      <td>/m/048z7l</td>\n",
       "      <td>31.0</td>\n",
       "      <td>7.662614</td>\n",
       "      <td>Male</td>\n",
       "      <td>Tufts University BAAmerican Academy of Dramati...</td>\n",
       "      <td>Yes</td>\n",
       "      <td>None</td>\n",
       "      <td>None</td>\n",
       "      <td>1</td>\n",
       "      <td>1986</td>\n",
       "    </tr>\n",
       "    <tr>\n",
       "      <th>Sylvester Stallone</th>\n",
       "      <td>1946-07-06</td>\n",
       "      <td>M</td>\n",
       "      <td>1.770</td>\n",
       "      <td>/m/0xnvg</td>\n",
       "      <td>35.0</td>\n",
       "      <td>7.551910</td>\n",
       "      <td>Male</td>\n",
       "      <td>University of Miami BFA</td>\n",
       "      <td>None</td>\n",
       "    </tr>\n",
       "    <tr>\n",
       "      <th>Steve Carell</th>\n",
       "      <td>1962-08-16</td>\n",
       "      <td>M</td>\n",
       "      <td>1.750</td>\n",
       "      <td>/m/02ctzb</td>\n",
       "      <td>29.0</td>\n",
       "      <td>7.517169</td>\n",
       "      <td>Male</td>\n",
       "      <td>Denison University BA</td>\n",
       "      <td>None</td>\n",
       "      <td>None</td>\n",
       "      <td>None</td>\n",
       "      <td>2</td>\n",
       "      <td>1989</td>\n",
       "    </tr>\n",
       "    <tr>\n",
       "      <th>Jack Nicholson</th>\n",
       "      <td>1937-04-22</td>\n",
       "      <td>M</td>\n",
       "      <td>1.770</td>\n",
       "      <td>/m/0xnvg</td>\n",
       "      <td>43.0</td>\n",
       "      <td>7.505649</td>\n",
       "      <td>Male</td>\n",
       "      <td>Manasquan High School</td>\n",
       "      <td>Yes</td>\n",
       "      <td>None</td>\n",
       "      <td>None</td>\n",
       "      <td>6</td>\n",
       "      <td>1955</td>\n",
       "    </tr>\n",
       "    <tr>\n",
       "      <th>Val Kilmer</th>\n",
       "      <td>1959-12-31</td>\n",
       "      <td>M</td>\n",
       "      <td>1.830</td>\n",
       "      <td>/m/07bch9</td>\n",
       "      <td>24.0</td>\n",
       "      <td>7.478978</td>\n",
       "      <td>Male</td>\n",
       "      <td>Juilliard School BFA</td>\n",
       "      <td>None</td>\n",
       "      <td>None</td>\n",
       "      <td>None</td>\n",
       "      <td>2</td>\n",
       "      <td>1981</td>\n",
       "    </tr>\n",
       "    <tr>\n",
       "      <th>Harry Shearer</th>\n",
       "      <td>1943-12-23</td>\n",
       "      <td>M</td>\n",
       "      <td>1.670</td>\n",
       "      <td>/m/041rx</td>\n",
       "      <td>39.0</td>\n",
       "      <td>7.397153</td>\n",
       "      <td>Male</td>\n",
       "      <td>University of California Los Angeles BA</td>\n",
       "      <td>Yes</td>\n",
       "      <td>None</td>\n",
       "    </tr>\n",
       "    <tr>\n",
       "      <th>Hugh Jackman</th>\n",
       "      <td>1968-10-12</td>\n",
       "      <td>M</td>\n",
       "      <td>1.890</td>\n",
       "      <td>/m/0bbz66j</td>\n",
       "      <td>31.0</td>\n",
       "      <td>7.390429</td>\n",
       "      <td>Male</td>\n",
       "      <td>University of Technology Sydney BAEdith Cowan ...</td>\n",
       "      <td>Yes</td>\n",
       "      <td>None</td>\n",
       "      <td>Sydney New South Wales Australia</td>\n",
       "      <td>1968-10-12</td>\n",
       "      <td>AustraliaUnited Kingdom</td>\n",
       "      <td>2</td>\n",
       "      <td>1994</td>\n",
       "    </tr>\n",
       "    <tr>\n",
       "      <th>Wesley Snipes</th>\n",
       "      <td>1962-07-31</td>\n",
       "      <td>M</td>\n",
       "      <td>1.753</td>\n",
       "      <td>/m/0x67</td>\n",
       "      <td>26.0</td>\n",
       "      <td>7.356718</td>\n",
       "      <td>Male</td>\n",
       "      <td>State University of New York at Purchase BFA</td>\n",
       "      <td>None</td>\n",
       "      <td>None</td>\n",
       "      <td>Orlando Florida US</td>\n",
       "      <td>1962-07-31</td>\n",
       "      <td>None</td>\n",
       "      <td>6</td>\n",
       "      <td>1985</td>\n",
       "    </tr>\n",
       "    <tr>\n",
       "      <th>Halle Berry</th>\n",
       "      <td>1966-08-14</td>\n",
       "      <td>F</td>\n",
       "      <td>1.680</td>\n",
       "      <td>/m/02ctzb</td>\n",
       "      <td>25.0</td>\n",
       "      <td>7.338532</td>\n",
       "      <td>Female</td>\n",
       "      <td>Northwestern University BS</td>\n",
       "      <td>None</td>\n",
       "      <td>None</td>\n",
       "      <td>New Zealand</td>\n",
       "      <td>None</td>\n",
       "      <td>2</td>\n",
       "      <td>1989</td>\n",
       "    </tr>\n",
       "    <tr>\n",
       "      <th>Jean-Claude Van Damme</th>\n",
       "      <td>1960-10-18</td>\n",
       "      <td>M</td>\n",
       "      <td>1.780</td>\n",
       "      <td>/m/02p656s</td>\n",
       "      <td>23.0</td>\n",
       "      <td>7.333228</td>\n",
       "      <td>Male</td>\n",
       "      <td>None</td>\n",
       "      <td>None</td>\n",
       "      <td>Martial arts</td>\n",
       "      <td></td>\n",
       "      <td>1960-10-18</td>\n",
       "      <td>None</td>\n",
       "      <td>3</td>\n",
       "      <td>1976</td>\n",
       "    </tr>\n",
       "    <tr>\n",
       "      <th>Edward Norton</th>\n",
       "      <td>1969-08-18</td>\n",
       "      <td>M</td>\n",
       "      <td>1.830</td>\n",
       "      <td>None</td>\n",
       "      <td>26.0</td>\n",
       "      <td>7.317067</td>\n",
       "      <td>Male</td>\n",
       "      <td>Yale University BA</td>\n",
       "      <td>Yes</td>\n",
       "      <td>None</td>\n",
       "      <td>Boston Massachusetts US</td>\n",
       "      <td>1969-08-18</td>\n",
       "      <td>None</td>\n",
       "      <td>1</td>\n",
       "      <td>1997</td>\n",
       "    </tr>\n",
       "    <tr>\n",
       "      <th>Ewan McGregor</th>\n",
       "      <td>1971-03-31</td>\n",
       "      <td>M</td>\n",
       "      <td>1.790</td>\n",
       "      <td>/m/03lmx1</td>\n",
       "      <td>22.0</td>\n",
       "      <td>7.269085</td>\n",
       "      <td>None</td>\n",
       "      <td>None</td>\n",
       "      <td>Perth Scotland</td>\n",
       "      <td>1971-03-31</td>\n",
       "      <td>United Kingdom, United States</td>\n",
       "      <td>5</td>\n",
       "      <td>1992</td>\n",
       "    </tr>\n",
       "    <tr>\n",
       "      <th>John Ratzenberger</th>\n",
       "      <td>1947-04-06</td>\n",
       "      <td>M</td>\n",
       "      <td>1.750</td>\n",
       "      <td>None</td>\n",
       "      <td>35.0</td>\n",
       "      <td>7.199750</td>\n",
       "      <td>Male</td>\n",
       "      <td>Sacred Heart University</td>\n",
       "      <td>None</td>\n",
       "      <td>Brooklyn New York US</td>\n",
       "      <td>1958-06-29</td>\n",
       "      <td>None</td>\n",
       "      <td>None</td>\n",
       "      <td>2</td>\n",
       "      <td>1973</td>\n",
       "    </tr>\n",
       "    <tr>\n",
       "      <th>Jeff Bridges</th>\n",
       "      <td>1949-12-04</td>\n",
       "      <td>M</td>\n",
       "      <td>1.850</td>\n",
       "      <td>None</td>\n",
       "      <td>30.0</td>\n",
       "      <td>7.196568</td>\n",
       "      <td>Male</td>\n",
       "      <td>None</td>\n",
       "      <td>None</td>\n",
       "      <td>None</td>\n",
       "      <td>Los Angeles California US</td>\n",
       "      <td>1949-12-04</td>\n",
       "      <td>None</td>\n",
       "      <td>3</td>\n",
       "      <td>1951</td>\n",
       "    </tr>\n",
       "    <tr>\n",
       "      <th>Dennis Quaid</th>\n",
       "      <td>1954-04-09</td>\n",
       "      <td>M</td>\n",
       "      <td>1.830</td>\n",
       "      <td>/m/0fqz6</td>\n",
       "      <td>26.0</td>\n",
       "      <td>7.170899</td>\n",
       "      <td>Male</td>\n",
       "      <td>University of Houston</td>\n",
       "      <td>None</td>\n",
       "      <td>Dance</td>\n",
       "      <td>Houston Texas US</td>\n",
       "      <td>1954-04-09</td>\n",
       "      <td>None</td>\n",
       "      <td>3</td>\n",
       "      <td>1975</td>\n",
       "      <td>F</td>\n",
       "      <td>NaN</td>\n",
       "      <td>None</td>\n",
       "      <td>35.0</td>\n",
       "      <td>5.432523</td>\n",
       "      <td>None</td>\n",
       "      <td>None</td>\n",
       "      <td>None</td>\n",
       "      <td>None</td>\n",
       "      <td>None</td>\n",
       "      <td>None</td>\n",
       "      <td>None</td>\n",
       "      <td>None</td>\n",
       "      <td>None</td>\n",
       "    </tr>\n",
       "    <tr>\n",
       "      <th>Bianca Hunter</th>\n",
       "      <td>None</td>\n",
       "      <td>F</td>\n",
       "      <td>NaN</td>\n",
       "      <td>None</td>\n",
       "      <td>NaN</td>\n",
       "      <td>5.432523</td>\n",
       "      <td>Not available</td>\n",
       "      <td>Not available</td>\n",
       "      <td>Not available</td>\n",
       "      <td>Not available</td>\n",
       "      <td>Not available</td>\n",
       "      <td>Not available</td>\n",
       "      <td>Not available</td>\n",
       "      <td>Not available</td>\n",
       "      <td>Not available</td>\n",
       "    </tr>\n",
       "    <tr>\n",
       "      <th>Melissa McMeekin</th>\n",
       "      <td>1972-11-20</td>\n",
       "      <td>F</td>\n",
       "      <td>NaN</td>\n",
       "      <td>None</td>\n",
       "      <td>38.0</td>\n",
       "      <td>5.432523</td>\n",
       "      <td>None</td>\n",
       "      <td>None</td>\n",
       "      <td>None</td>\n",
       "      <td>None</td>\n",
       "      <td>None</td>\n",
       "      <td>None</td>\n",
       "      <td>None</td>\n",
       "      <td>None</td>\n",
       "      <td>None</td>\n",
       "    </tr>\n",
       "    <tr>\n",
       "      <th>Frank Renzulli</th>\n",
       "      <td>1958-02-21</td>\n",
       "      <td>M</td>\n",
       "      <td>NaN</td>\n",
       "      <td>None</td>\n",
       "      <td>52.0</td>\n",
       "      <td>5.432523</td>\n",
       "      <td>Male</td>\n",
       "      <td>None</td>\n",
       "      <td>None</td>\n",
       "      <td>None</td>\n",
       "      <td>East Boston Massachusetts US</td>\n",
       "      <td>None</td>\n",
       "      <td>None</td>\n",
       "      <td>None</td>\n",
       "      <td>1984</td>\n",
       "    </tr>\n",
       "    <tr>\n",
       "      <th>Patrick Leahy</th>\n",
       "      <td>1940-03-31</td>\n",
       "      <td>M</td>\n",
       "      <td>NaN</td>\n",
       "      <td>/m/033tf_</td>\n",
       "      <td>57.0</td>\n",
       "      <td>5.431233</td>\n",
       "      <td>Male</td>\n",
       "      <td>Saint Michaels College BAGeorgetown University JD</td>\n",
       "      <td>None</td>\n",
       "      <td>None</td>\n",
       "      <td>Montpelier Vermont</td>\n",
       "      <td>1940-03-31</td>\n",
       "      <td>None</td>\n",
       "      <td>3</td>\n",
       "      <td>None</td>\n",
       "    </tr>\n",
       "  </tbody>\n",
       "</table>\n",
       "<p>1000 rows × 15 columns</p>\n",
       "</div>"
      ],
      "text/plain": [
       "                  Actor date of birth Actor gender  Actor height  \\\n",
       "Actor name                                                         \n",
       "Denzel Washington          1954-12-28            M          1.84   \n",
       "Matt Damon                 1970-10-08            M          1.78   \n",
       "Tom Hanks                  1956-07-09            M          1.83   \n",
       "Eddie Murphy               1961-04-03            M          1.75   \n",
       "Tom Cruise                 1962-07-03            M          1.70   \n",
       "...                               ...          ...           ...   \n",
       "Jill Quigg                       1975            F           NaN   \n",
       "Bianca Hunter                    None            F           NaN   \n",
       "Melissa McMeekin           1972-11-20            F           NaN   \n",
       "Frank Renzulli             1958-02-21            M           NaN   \n",
       "Patrick Leahy              1940-03-31            M           NaN   \n",
       "\n",
       "                  Actor ethnicity  Actor age at movie release  \\\n",
       "Actor name                                                      \n",
       "Denzel Washington         /m/0x67                        26.0   \n",
       "Matt Damon             /m/0cnvdq1                        18.0   \n",
       "Tom Hanks              /m/02p4q5p                        27.0   \n",
       "Eddie Murphy              /m/0x67                        21.0   \n",
       "Tom Cruise              /m/02ctzb                        18.0   \n",
       "...                           ...                         ...   \n",
       "Jill Quigg                   None                        35.0   \n",
       "Bianca Hunter                None                         NaN   \n",
       "Melissa McMeekin             None                        38.0   \n",
       "Frank Renzulli               None                        52.0   \n",
       "Patrick Leahy           /m/033tf_                        57.0   \n",
       "\n",
       "                       Actor Score Index         Gender  \\\n",
       "Actor name                                                \n",
       "Denzel Washington              10.000000           Male   \n",
       "Matt Damon                      9.912690           Male   \n",
       "Tom Hanks                       9.741555           Male   \n",
       "Eddie Murphy                    9.415060           Male   \n",
       "Tom Cruise                      9.362255           Male   \n",
       "Frank Welker                    8.787846           Male   \n",
       "Harrison Ford                   8.450475           Male   \n",
       "James Woods                     8.180804           None   \n",
       "Michelle Pfeiffer               8.174009         Female   \n",
       "Trey Parker                     8.156354           Male   \n",
       "Samuel L. Jackson               8.129855           Male   \n",
       "Richard Jenkins                 8.063021           Male   \n",
       "Danny Devito                    8.004749           Male   \n",
       "Kirsten Dunst                   7.966812         Female   \n",
       "Chris Rock                      7.965746           Male   \n",
       "Robert De Niro                  7.958091           Male   \n",
       "George Clooney                  7.915680           Male   \n",
       "Jim Carrey                      7.826027           Male   \n",
       "Kevin Costner                   7.776851           Male   \n",
       "Stanley Tucci                   7.767929           Male   \n",
       "Clint Eastwood                  7.738973           Male   \n",
       "Jonah Hill                      7.732380           Male   \n",
       "Nicole Kidman                   7.718323           Male   \n",
       "Arnold Schwarzenegger           7.692562           Male   \n",
       "Mark Wahlberg                   7.671580           Male   \n",
       "Hank Azaria                     7.662614           Male   \n",
       "Sylvester Stallone              7.551910           Male   \n",
       "Steve Carell                    7.517169           Male   \n",
       "Jack Nicholson                  7.505649           Male   \n",
       "Val Kilmer                      7.478978           Male   \n",
       "Harry Shearer                   7.397153           Male   \n",
       "Hugh Jackman                    7.390429           Male   \n",
       "Wesley Snipes                   7.356718           Male   \n",
       "Halle Berry                     7.338532         Female   \n",
       "Jean-Claude Van Damme           7.333228           Male   \n",
       "Edward Norton                   7.317067           Male   \n",
       "Ewan McGregor                   7.269085           None   \n",
       "John Ratzenberger               7.199750           Male   \n",
       "Jeff Bridges                    7.196568           Male   \n",
       "Dennis Quaid                    7.170899           Male   \n",
       "Helena Bonham Carter            7.156795         Female   \n",
       "Scarlett Johansson              7.152288         Female   \n",
       "Tommy Lee Jones                 7.133335           Male   \n",
       "Martin Lawrence                 7.132028           Male   \n",
       "Catherine O%27Hara              7.125179         Female   \n",
       "Bruce McGill                    7.102583           Male   \n",
       "Jackie Chan                     6.991325  Not available   \n",
       "James Cromwell                  6.988589           Male   \n",
       "Hugo Weaving                    6.987011           Male   \n",
       "Steve Martin                    6.972567           Male   \n",
       "\n",
       "                                   University Theater Sports  \\\n",
       "Actor name                                                     \n",
       "Denis Forest           Ryerson Theatre School     Yes   None   \n",
       "Orestes Matacena                         None     Yes   None   \n",
       "Max                                      None    None   None   \n",
       "Richard Jeni                             None    None   None   \n",
       "Mini Anden                               None    None   None   \n",
       "Brendan Whitney                          None    None   None   \n",
       "Vincent Van Ommen                        None    None   None   \n",
       "Ted Manson                               None    None   None   \n",
       "Kerry Bishé        Northwestern University BS    None   None   \n",
       "Jo Anderson                              None    None   None   \n",
       "\n",
       "                              Birth City Date of Birth Citizenship  \\\n",
       "Actor name                                                           \n",
       "Denis Forest       Ottawa Ontario Canada    1960-09-05        None   \n",
       "Orestes Matacena             Havana Cuba    1941-08-29        None   \n",
       "Max                                 None          None        None   \n",
       "Richard Jeni                    Brooklyn    1957-04-14        None   \n",
       "Mini Anden              Stockholm Sweden    1978-06-07        None   \n",
       "Brendan Whitney                     None          None        None   \n",
       "Vincent Van Ommen                   None          None        None   \n",
       "Ted Manson                          None          None        None   \n",
       "Kerry Bishé                  New Zealand          None        None   \n",
       "Jo Anderson         Brooklyn New York US    1958-06-29        None   \n",
       "\n",
       "                  Number of Children Career Start  \n",
       "Actor name                                         \n",
       "Denis Forest                    None         1982  \n",
       "Orestes Matacena                None         1973  \n",
       "Max                             None         None  \n",
       "Richard Jeni                    None         1982  \n",
       "Mini Anden                         1         1993  \n",
       "Brendan Whitney                 None         None  \n",
       "Vincent Van Ommen               None         None  \n",
       "Ted Manson                      None         None  \n",
       "Kerry Bishé                        1         1997  \n",
       "Jo Anderson                     None         1983  "
      ]
     },
     "execution_count": 3,
     "metadata": {},
     "output_type": "execute_result"
    }
   ],
   "source": [
    "test_sample = actor_data[:1000]\n",
    "spider = ActorScraper(test_sample)\n",
    "test_sample = spider.run_scraping()\n",
    "test_sample"
   ]
  },
  {
   "cell_type": "code",
   "execution_count": null,
   "metadata": {},
   "outputs": [],
   "source": [
    "test_sample.to_csv('test_sample_webscraper.csv', index=False)"
   ]
  }
 ],
 "metadata": {
  "kernelspec": {
   "display_name": "ada",
   "language": "python",
   "name": "python3"
  },
  "language_info": {
   "codemirror_mode": {
    "name": "ipython",
    "version": 3
   },
   "file_extension": ".py",
   "mimetype": "text/x-python",
   "name": "python",
   "nbconvert_exporter": "python",
   "pygments_lexer": "ipython3",
   "version": "3.11.9"
  }
 },
 "nbformat": 4,
 "nbformat_minor": 2
}
